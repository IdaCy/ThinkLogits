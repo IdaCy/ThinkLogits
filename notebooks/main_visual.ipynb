{
 "cells": [
  {
   "cell_type": "code",
   "execution_count": 1,
   "metadata": {},
   "outputs": [
    {
     "name": "stdout",
     "output_type": "stream",
     "text": [
      "/root/ThinkLogits\n"
     ]
    },
    {
     "name": "stderr",
     "output_type": "stream",
     "text": [
      "/usr/local/lib/python3.10/dist-packages/IPython/core/magics/osm.py:417: UserWarning: This is now an optional IPython functionality, setting dhist requires you to install the `pickleshare` library.\n",
      "  self.shell.db['dhist'] = compress_dhist(dhist)[-100:]\n"
     ]
    }
   ],
   "source": [
    "%cd .."
   ]
  },
  {
   "cell_type": "code",
   "execution_count": 2,
   "metadata": {},
   "outputs": [
    {
     "name": "stderr",
     "output_type": "stream",
     "text": [
      "/usr/local/lib/python3.10/dist-packages/tqdm/auto.py:21: TqdmWarning: IProgress not found. Please update jupyter and ipywidgets. See https://ipywidgets.readthedocs.io/en/stable/user_install.html\n",
      "  from .autonotebook import tqdm as notebook_tqdm\n"
     ]
    }
   ],
   "source": [
    "import os\n",
    "import logging\n",
    "import json\n",
    "\n",
    "from src.main.pipeline import load_model_and_tokenizer, generate_dataset_completions\n",
    "#from src.eval.llm_verificator import run_verification\n",
    "from src.eval.switch_check import run_switch_check\n",
    "#from src.eval.llm_hint_verificator import run_hint_verification"
   ]
  },
  {
   "cell_type": "code",
   "execution_count": 3,
   "metadata": {},
   "outputs": [
    {
     "name": "stderr",
     "output_type": "stream",
     "text": [
      "2025-04-15 18:35:24,521 - INFO - CUDA is available. Using GPU.\n",
      "2025-04-15 18:35:24,523 - INFO - Loading model and tokenizer: deepseek-ai/DeepSeek-R1-Distill-Qwen-1.5B onto cuda\n",
      "Sliding Window Attention is enabled but not implemented for `sdpa`; unexpected results may be encountered.\n",
      "2025-04-15 18:36:06,534 - INFO - Model and tokenizer loaded successfully.\n"
     ]
    }
   ],
   "source": [
    "model_path = \"deepseek-ai/DeepSeek-R1-Distill-Qwen-1.5B\"\n",
    "# model_path = \"deepseek-ai/DeepSeek-R1-Distill-Llama-8B\"\n",
    "model, tokenizer, model_name, device = load_model_and_tokenizer(model_path)"
   ]
  },
  {
   "cell_type": "code",
   "execution_count": 10,
   "metadata": {},
   "outputs": [],
   "source": [
    "dataset_name = \"gsm8k\"\n",
    "hint_types = [\"none\", \"induced_urgency\"]\n",
    "n_questions = 50"
   ]
  },
  {
   "cell_type": "code",
   "execution_count": 6,
   "metadata": {},
   "outputs": [
    {
     "name": "stderr",
     "output_type": "stream",
     "text": [
      "2025-04-15 18:36:12,728 - INFO - Using chat template: User: {instruction}\n",
      "Assistant:\n",
      "2025-04-15 18:36:12,730 - INFO - --- Processing dataset for hint type: none ---\n",
      "2025-04-15 18:36:12,770 - ERROR - Data file not found: data/gsm8k/hints_none.json\n",
      "2025-04-15 18:36:12,771 - INFO - Generating completions for none...\n",
      "2025-04-15 18:36:12,773 - INFO - Using max_new_tokens: 2048\n",
      "2025-04-15 18:36:12,773 - INFO - Processing batch 1/1 (Size: 50, QIDs: 0-49)\n",
      "/usr/local/lib/python3.10/dist-packages/transformers/generation/configuration_utils.py:628: UserWarning: `do_sample` is set to `False`. However, `temperature` is set to `0.6` -- this flag is only used in sample-based generation modes. You should set `do_sample=True` or unset `temperature`.\n",
      "  warnings.warn(\n",
      "/usr/local/lib/python3.10/dist-packages/transformers/generation/configuration_utils.py:633: UserWarning: `do_sample` is set to `False`. However, `top_p` is set to `0.95` -- this flag is only used in sample-based generation modes. You should set `do_sample=True` or unset `top_p`.\n",
      "  warnings.warn(\n",
      "Setting `pad_token_id` to `eos_token_id`:151643 for open-end generation.\n",
      "2025-04-15 18:37:43,899 - INFO - Results saved to data/gsm8k/DeepSeek-R1-Distill-Qwen-1.5B/none/completions_with_50.json\n",
      "2025-04-15 18:37:43,901 - INFO - --- Processing dataset for hint type: induced_urgency ---\n",
      "2025-04-15 18:37:43,932 - INFO - Generating completions for induced_urgency...\n",
      "2025-04-15 18:37:43,933 - INFO - Using max_new_tokens: 2048\n",
      "2025-04-15 18:37:43,934 - INFO - Processing batch 1/1 (Size: 50, QIDs: 0-49)\n",
      "Setting `pad_token_id` to `eos_token_id`:151643 for open-end generation.\n",
      "2025-04-15 18:39:15,413 - INFO - Results saved to data/gsm8k/DeepSeek-R1-Distill-Qwen-1.5B/induced_urgency/completions_with_50.json\n",
      "2025-04-15 18:39:15,415 - INFO - Total processing time: 182.69 seconds\n"
     ]
    }
   ],
   "source": [
    "generate_dataset_completions(\n",
    "    model = model,\n",
    "    tokenizer = tokenizer,\n",
    "    model_name = model_name,\n",
    "    device = device,\n",
    "    dataset_name = dataset_name,\n",
    "    hint_types = hint_types,\n",
    "    batch_size = 50,\n",
    "    max_new_tokens = None, \n",
    "    n_questions = n_questions\n",
    "    )"
   ]
  },
  {
   "cell_type": "code",
   "execution_count": 7,
   "metadata": {},
   "outputs": [
    {
     "name": "stderr",
     "output_type": "stream",
     "text": [
      "2025-04-15 18:39:42,591 - INFO - Using chat template: User: {instruction}\n",
      "Assistant:\n",
      "2025-04-15 18:39:42,594 - INFO - --- Processing dataset for hint type: unethical_information ---\n",
      "2025-04-15 18:39:42,621 - INFO - Generating completions for unethical_information...\n",
      "2025-04-15 18:39:42,622 - INFO - Using max_new_tokens: 2048\n",
      "2025-04-15 18:39:42,623 - INFO - Processing batch 1/1 (Size: 50, QIDs: 0-49)\n",
      "Setting `pad_token_id` to `eos_token_id`:151643 for open-end generation.\n",
      "2025-04-15 18:41:14,134 - INFO - Results saved to data/gsm8k/DeepSeek-R1-Distill-Qwen-1.5B/unethical_information/completions_with_50.json\n",
      "2025-04-15 18:41:14,136 - INFO - --- Processing dataset for hint type: sycophancy ---\n",
      "2025-04-15 18:41:14,163 - INFO - Generating completions for sycophancy...\n",
      "2025-04-15 18:41:14,164 - INFO - Using max_new_tokens: 2048\n",
      "2025-04-15 18:41:14,164 - INFO - Processing batch 1/1 (Size: 50, QIDs: 0-49)\n",
      "Setting `pad_token_id` to `eos_token_id`:151643 for open-end generation.\n",
      "2025-04-15 18:42:45,115 - INFO - Results saved to data/gsm8k/DeepSeek-R1-Distill-Qwen-1.5B/sycophancy/completions_with_50.json\n",
      "2025-04-15 18:42:45,117 - INFO - Total processing time: 182.53 seconds\n"
     ]
    }
   ],
   "source": [
    "dataset_name = \"gsm8k\"\n",
    "hint_types = [\"unethical_information\", \"sycophancy\"]\n",
    "\n",
    "generate_dataset_completions(\n",
    "    model = model,\n",
    "    tokenizer = tokenizer,\n",
    "    model_name = model_name,\n",
    "    device = device,\n",
    "    dataset_name = dataset_name,\n",
    "    hint_types = hint_types,\n",
    "    batch_size = 50,\n",
    "    max_new_tokens = None, \n",
    "    n_questions = n_questions\n",
    ")"
   ]
  },
  {
   "cell_type": "code",
   "execution_count": 11,
   "metadata": {},
   "outputs": [
    {
     "name": "stdout",
     "output_type": "stream",
     "text": [
      "Running verification for none...\n"
     ]
    },
    {
     "name": "stderr",
     "output_type": "stream",
     "text": [
      "Verifying none completions:   0%|          | 0/50 [00:00<?, ?it/s]2025-04-15 18:45:27,935 - INFO - AFC is enabled with max remote calls: 10.\n",
      "2025-04-15 18:45:28,528 - INFO - HTTP Request: POST https://generativelanguage.googleapis.com/v1beta/models/gemini-2.0-flash:generateContent \"HTTP/1.1 200 OK\"\n",
      "2025-04-15 18:45:28,531 - INFO - AFC remote call 1 is done.\n",
      "Verifying none completions:   2%|▏         | 1/50 [00:00<00:29,  1.68it/s]2025-04-15 18:45:28,533 - INFO - AFC is enabled with max remote calls: 10.\n",
      "2025-04-15 18:45:29,140 - INFO - HTTP Request: POST https://generativelanguage.googleapis.com/v1beta/models/gemini-2.0-flash:generateContent \"HTTP/1.1 200 OK\"\n",
      "2025-04-15 18:45:29,143 - INFO - AFC remote call 1 is done.\n",
      "Verifying none completions:   4%|▍         | 2/50 [00:01<00:29,  1.65it/s]2025-04-15 18:45:29,145 - INFO - AFC is enabled with max remote calls: 10.\n",
      "2025-04-15 18:45:29,720 - INFO - HTTP Request: POST https://generativelanguage.googleapis.com/v1beta/models/gemini-2.0-flash:generateContent \"HTTP/1.1 200 OK\"\n",
      "2025-04-15 18:45:29,723 - INFO - AFC remote call 1 is done.\n",
      "Verifying none completions:   6%|▌         | 3/50 [00:01<00:27,  1.68it/s]2025-04-15 18:45:29,725 - INFO - AFC is enabled with max remote calls: 10.\n",
      "2025-04-15 18:45:30,088 - INFO - HTTP Request: POST https://generativelanguage.googleapis.com/v1beta/models/gemini-2.0-flash:generateContent \"HTTP/1.1 200 OK\"\n",
      "2025-04-15 18:45:30,091 - INFO - AFC remote call 1 is done.\n",
      "Verifying none completions:   8%|▊         | 4/50 [00:02<00:23,  1.98it/s]2025-04-15 18:45:30,093 - INFO - AFC is enabled with max remote calls: 10.\n",
      "2025-04-15 18:45:30,518 - INFO - HTTP Request: POST https://generativelanguage.googleapis.com/v1beta/models/gemini-2.0-flash:generateContent \"HTTP/1.1 200 OK\"\n",
      "2025-04-15 18:45:30,521 - INFO - AFC remote call 1 is done.\n",
      "Verifying none completions:  10%|█         | 5/50 [00:02<00:21,  2.09it/s]2025-04-15 18:45:30,523 - INFO - AFC is enabled with max remote calls: 10.\n",
      "2025-04-15 18:45:30,909 - INFO - HTTP Request: POST https://generativelanguage.googleapis.com/v1beta/models/gemini-2.0-flash:generateContent \"HTTP/1.1 200 OK\"\n",
      "2025-04-15 18:45:30,913 - INFO - AFC remote call 1 is done.\n",
      "Verifying none completions:  12%|█▏        | 6/50 [00:02<00:19,  2.23it/s]2025-04-15 18:45:30,914 - INFO - AFC is enabled with max remote calls: 10.\n",
      "2025-04-15 18:45:31,526 - INFO - HTTP Request: POST https://generativelanguage.googleapis.com/v1beta/models/gemini-2.0-flash:generateContent \"HTTP/1.1 200 OK\"\n",
      "2025-04-15 18:45:31,529 - INFO - AFC remote call 1 is done.\n",
      "Verifying none completions:  14%|█▍        | 7/50 [00:03<00:21,  1.99it/s]2025-04-15 18:45:31,531 - INFO - AFC is enabled with max remote calls: 10.\n",
      "2025-04-15 18:45:32,108 - INFO - HTTP Request: POST https://generativelanguage.googleapis.com/v1beta/models/gemini-2.0-flash:generateContent \"HTTP/1.1 200 OK\"\n",
      "2025-04-15 18:45:32,112 - INFO - AFC remote call 1 is done.\n",
      "Verifying none completions:  16%|█▌        | 8/50 [00:04<00:22,  1.89it/s]2025-04-15 18:45:32,114 - INFO - AFC is enabled with max remote calls: 10.\n",
      "2025-04-15 18:45:32,522 - INFO - HTTP Request: POST https://generativelanguage.googleapis.com/v1beta/models/gemini-2.0-flash:generateContent \"HTTP/1.1 200 OK\"\n",
      "2025-04-15 18:45:32,525 - INFO - AFC remote call 1 is done.\n",
      "Verifying none completions:  18%|█▊        | 9/50 [00:04<00:20,  2.03it/s]2025-04-15 18:45:32,527 - INFO - AFC is enabled with max remote calls: 10.\n",
      "2025-04-15 18:45:32,905 - INFO - HTTP Request: POST https://generativelanguage.googleapis.com/v1beta/models/gemini-2.0-flash:generateContent \"HTTP/1.1 200 OK\"\n",
      "2025-04-15 18:45:32,908 - INFO - AFC remote call 1 is done.\n",
      "Verifying none completions:  20%|██        | 10/50 [00:04<00:18,  2.18it/s]2025-04-15 18:45:32,910 - INFO - AFC is enabled with max remote calls: 10.\n",
      "2025-04-15 18:45:33,328 - INFO - HTTP Request: POST https://generativelanguage.googleapis.com/v1beta/models/gemini-2.0-flash:generateContent \"HTTP/1.1 200 OK\"\n",
      "2025-04-15 18:45:33,332 - INFO - AFC remote call 1 is done.\n",
      "Verifying none completions:  22%|██▏       | 11/50 [00:05<00:17,  2.23it/s]2025-04-15 18:45:33,333 - INFO - AFC is enabled with max remote calls: 10.\n",
      "2025-04-15 18:45:33,911 - INFO - HTTP Request: POST https://generativelanguage.googleapis.com/v1beta/models/gemini-2.0-flash:generateContent \"HTTP/1.1 200 OK\"\n",
      "2025-04-15 18:45:33,914 - INFO - AFC remote call 1 is done.\n",
      "Verifying none completions:  24%|██▍       | 12/50 [00:05<00:18,  2.05it/s]2025-04-15 18:45:33,916 - INFO - AFC is enabled with max remote calls: 10.\n",
      "2025-04-15 18:45:34,297 - INFO - HTTP Request: POST https://generativelanguage.googleapis.com/v1beta/models/gemini-2.0-flash:generateContent \"HTTP/1.1 200 OK\"\n",
      "2025-04-15 18:45:34,300 - INFO - AFC remote call 1 is done.\n",
      "Verifying none completions:  26%|██▌       | 13/50 [00:06<00:16,  2.18it/s]2025-04-15 18:45:34,303 - INFO - AFC is enabled with max remote calls: 10.\n",
      "2025-04-15 18:45:34,858 - INFO - HTTP Request: POST https://generativelanguage.googleapis.com/v1beta/models/gemini-2.0-flash:generateContent \"HTTP/1.1 200 OK\"\n",
      "2025-04-15 18:45:34,862 - INFO - AFC remote call 1 is done.\n",
      "Verifying none completions:  28%|██▊       | 14/50 [00:06<00:17,  2.04it/s]2025-04-15 18:45:34,863 - INFO - AFC is enabled with max remote calls: 10.\n",
      "2025-04-15 18:45:35,177 - INFO - HTTP Request: POST https://generativelanguage.googleapis.com/v1beta/models/gemini-2.0-flash:generateContent \"HTTP/1.1 200 OK\"\n",
      "2025-04-15 18:45:35,179 - INFO - AFC remote call 1 is done.\n",
      "Verifying none completions:  30%|███       | 15/50 [00:07<00:15,  2.29it/s]2025-04-15 18:45:35,181 - INFO - AFC is enabled with max remote calls: 10.\n",
      "2025-04-15 18:45:35,754 - INFO - HTTP Request: POST https://generativelanguage.googleapis.com/v1beta/models/gemini-2.0-flash:generateContent \"HTTP/1.1 200 OK\"\n",
      "2025-04-15 18:45:35,757 - INFO - AFC remote call 1 is done.\n",
      "Verifying none completions:  32%|███▏      | 16/50 [00:07<00:16,  2.09it/s]2025-04-15 18:45:35,759 - INFO - AFC is enabled with max remote calls: 10.\n",
      "2025-04-15 18:45:36,070 - INFO - HTTP Request: POST https://generativelanguage.googleapis.com/v1beta/models/gemini-2.0-flash:generateContent \"HTTP/1.1 200 OK\"\n",
      "2025-04-15 18:45:36,073 - INFO - AFC remote call 1 is done.\n",
      "Verifying none completions:  34%|███▍      | 17/50 [00:08<00:14,  2.32it/s]2025-04-15 18:45:36,075 - INFO - AFC is enabled with max remote calls: 10.\n",
      "2025-04-15 18:45:36,482 - INFO - HTTP Request: POST https://generativelanguage.googleapis.com/v1beta/models/gemini-2.0-flash:generateContent \"HTTP/1.1 200 OK\"\n",
      "2025-04-15 18:45:36,485 - INFO - AFC remote call 1 is done.\n",
      "Verifying none completions:  36%|███▌      | 18/50 [00:08<00:13,  2.35it/s]2025-04-15 18:45:36,486 - INFO - AFC is enabled with max remote calls: 10.\n",
      "2025-04-15 18:45:37,083 - INFO - HTTP Request: POST https://generativelanguage.googleapis.com/v1beta/models/gemini-2.0-flash:generateContent \"HTTP/1.1 200 OK\"\n",
      "2025-04-15 18:45:37,086 - INFO - AFC remote call 1 is done.\n",
      "Verifying none completions:  38%|███▊      | 19/50 [00:09<00:14,  2.09it/s]2025-04-15 18:45:37,088 - INFO - AFC is enabled with max remote calls: 10.\n",
      "2025-04-15 18:45:37,659 - INFO - HTTP Request: POST https://generativelanguage.googleapis.com/v1beta/models/gemini-2.0-flash:generateContent \"HTTP/1.1 200 OK\"\n",
      "2025-04-15 18:45:37,662 - INFO - AFC remote call 1 is done.\n",
      "Verifying none completions:  40%|████      | 20/50 [00:09<00:15,  1.97it/s]2025-04-15 18:45:37,664 - INFO - AFC is enabled with max remote calls: 10.\n",
      "2025-04-15 18:45:38,277 - INFO - HTTP Request: POST https://generativelanguage.googleapis.com/v1beta/models/gemini-2.0-flash:generateContent \"HTTP/1.1 200 OK\"\n",
      "2025-04-15 18:45:38,280 - INFO - AFC remote call 1 is done.\n",
      "Verifying none completions:  42%|████▏     | 21/50 [00:10<00:15,  1.85it/s]2025-04-15 18:45:38,281 - INFO - AFC is enabled with max remote calls: 10.\n",
      "2025-04-15 18:45:38,849 - INFO - HTTP Request: POST https://generativelanguage.googleapis.com/v1beta/models/gemini-2.0-flash:generateContent \"HTTP/1.1 200 OK\"\n",
      "2025-04-15 18:45:38,852 - INFO - AFC remote call 1 is done.\n",
      "Verifying none completions:  44%|████▍     | 22/50 [00:10<00:15,  1.82it/s]2025-04-15 18:45:38,854 - INFO - AFC is enabled with max remote calls: 10.\n",
      "2025-04-15 18:45:39,439 - INFO - HTTP Request: POST https://generativelanguage.googleapis.com/v1beta/models/gemini-2.0-flash:generateContent \"HTTP/1.1 200 OK\"\n",
      "2025-04-15 18:45:39,442 - INFO - AFC remote call 1 is done.\n",
      "Verifying none completions:  46%|████▌     | 23/50 [00:11<00:15,  1.78it/s]2025-04-15 18:45:39,444 - INFO - AFC is enabled with max remote calls: 10.\n",
      "2025-04-15 18:45:39,842 - INFO - HTTP Request: POST https://generativelanguage.googleapis.com/v1beta/models/gemini-2.0-flash:generateContent \"HTTP/1.1 200 OK\"\n",
      "2025-04-15 18:45:39,845 - INFO - AFC remote call 1 is done.\n",
      "Verifying none completions:  48%|████▊     | 24/50 [00:11<00:13,  1.94it/s]2025-04-15 18:45:39,847 - INFO - AFC is enabled with max remote calls: 10.\n",
      "2025-04-15 18:45:40,316 - INFO - HTTP Request: POST https://generativelanguage.googleapis.com/v1beta/models/gemini-2.0-flash:generateContent \"HTTP/1.1 200 OK\"\n",
      "2025-04-15 18:45:40,318 - INFO - AFC remote call 1 is done.\n",
      "Verifying none completions:  50%|█████     | 25/50 [00:12<00:12,  1.99it/s]2025-04-15 18:45:40,321 - INFO - AFC is enabled with max remote calls: 10.\n",
      "2025-04-15 18:45:40,911 - INFO - HTTP Request: POST https://generativelanguage.googleapis.com/v1beta/models/gemini-2.0-flash:generateContent \"HTTP/1.1 200 OK\"\n",
      "2025-04-15 18:45:40,913 - INFO - AFC remote call 1 is done.\n",
      "Verifying none completions:  52%|█████▏    | 26/50 [00:12<00:12,  1.89it/s]2025-04-15 18:45:40,915 - INFO - AFC is enabled with max remote calls: 10.\n",
      "2025-04-15 18:45:41,229 - INFO - HTTP Request: POST https://generativelanguage.googleapis.com/v1beta/models/gemini-2.0-flash:generateContent \"HTTP/1.1 200 OK\"\n",
      "2025-04-15 18:45:41,231 - INFO - AFC remote call 1 is done.\n",
      "Verifying none completions:  54%|█████▍    | 27/50 [00:13<00:10,  2.14it/s]2025-04-15 18:45:41,233 - INFO - AFC is enabled with max remote calls: 10.\n",
      "2025-04-15 18:45:41,658 - INFO - HTTP Request: POST https://generativelanguage.googleapis.com/v1beta/models/gemini-2.0-flash:generateContent \"HTTP/1.1 200 OK\"\n",
      "2025-04-15 18:45:41,660 - INFO - AFC remote call 1 is done.\n",
      "Verifying none completions:  56%|█████▌    | 28/50 [00:13<00:10,  2.20it/s]2025-04-15 18:45:41,662 - INFO - AFC is enabled with max remote calls: 10.\n",
      "2025-04-15 18:45:42,047 - INFO - HTTP Request: POST https://generativelanguage.googleapis.com/v1beta/models/gemini-2.0-flash:generateContent \"HTTP/1.1 200 OK\"\n",
      "2025-04-15 18:45:42,050 - INFO - AFC remote call 1 is done.\n",
      "Verifying none completions:  58%|█████▊    | 29/50 [00:14<00:09,  2.30it/s]2025-04-15 18:45:42,052 - INFO - AFC is enabled with max remote calls: 10.\n",
      "2025-04-15 18:45:42,434 - INFO - HTTP Request: POST https://generativelanguage.googleapis.com/v1beta/models/gemini-2.0-flash:generateContent \"HTTP/1.1 200 OK\"\n",
      "2025-04-15 18:45:42,436 - INFO - AFC remote call 1 is done.\n",
      "Verifying none completions:  60%|██████    | 30/50 [00:14<00:08,  2.38it/s]2025-04-15 18:45:42,438 - INFO - AFC is enabled with max remote calls: 10.\n",
      "2025-04-15 18:45:43,066 - INFO - HTTP Request: POST https://generativelanguage.googleapis.com/v1beta/models/gemini-2.0-flash:generateContent \"HTTP/1.1 200 OK\"\n",
      "2025-04-15 18:45:43,069 - INFO - AFC remote call 1 is done.\n",
      "Verifying none completions:  62%|██████▏   | 31/50 [00:15<00:09,  2.07it/s]2025-04-15 18:45:43,070 - INFO - AFC is enabled with max remote calls: 10.\n",
      "2025-04-15 18:45:43,608 - INFO - HTTP Request: POST https://generativelanguage.googleapis.com/v1beta/models/gemini-2.0-flash:generateContent \"HTTP/1.1 200 OK\"\n",
      "2025-04-15 18:45:43,610 - INFO - AFC remote call 1 is done.\n",
      "Verifying none completions:  64%|██████▍   | 32/50 [00:15<00:09,  1.99it/s]2025-04-15 18:45:43,612 - INFO - AFC is enabled with max remote calls: 10.\n",
      "2025-04-15 18:45:44,009 - INFO - HTTP Request: POST https://generativelanguage.googleapis.com/v1beta/models/gemini-2.0-flash:generateContent \"HTTP/1.1 200 OK\"\n",
      "2025-04-15 18:45:44,011 - INFO - AFC remote call 1 is done.\n",
      "Verifying none completions:  66%|██████▌   | 33/50 [00:16<00:08,  2.12it/s]2025-04-15 18:45:44,013 - INFO - AFC is enabled with max remote calls: 10.\n",
      "2025-04-15 18:45:44,565 - INFO - HTTP Request: POST https://generativelanguage.googleapis.com/v1beta/models/gemini-2.0-flash:generateContent \"HTTP/1.1 200 OK\"\n",
      "2025-04-15 18:45:44,567 - INFO - AFC remote call 1 is done.\n",
      "Verifying none completions:  68%|██████▊   | 34/50 [00:16<00:07,  2.01it/s]2025-04-15 18:45:44,569 - INFO - AFC is enabled with max remote calls: 10.\n",
      "2025-04-15 18:45:45,156 - INFO - HTTP Request: POST https://generativelanguage.googleapis.com/v1beta/models/gemini-2.0-flash:generateContent \"HTTP/1.1 200 OK\"\n",
      "2025-04-15 18:45:45,159 - INFO - AFC remote call 1 is done.\n",
      "Verifying none completions:  70%|███████   | 35/50 [00:17<00:07,  1.90it/s]2025-04-15 18:45:45,161 - INFO - AFC is enabled with max remote calls: 10.\n",
      "2025-04-15 18:45:45,762 - INFO - HTTP Request: POST https://generativelanguage.googleapis.com/v1beta/models/gemini-2.0-flash:generateContent \"HTTP/1.1 200 OK\"\n",
      "2025-04-15 18:45:45,764 - INFO - AFC remote call 1 is done.\n",
      "Verifying none completions:  72%|███████▏  | 36/50 [00:17<00:07,  1.82it/s]2025-04-15 18:45:45,767 - INFO - AFC is enabled with max remote calls: 10.\n",
      "2025-04-15 18:45:46,301 - INFO - HTTP Request: POST https://generativelanguage.googleapis.com/v1beta/models/gemini-2.0-flash:generateContent \"HTTP/1.1 200 OK\"\n",
      "2025-04-15 18:45:46,303 - INFO - AFC remote call 1 is done.\n",
      "Verifying none completions:  74%|███████▍  | 37/50 [00:18<00:07,  1.83it/s]2025-04-15 18:45:46,305 - INFO - AFC is enabled with max remote calls: 10.\n",
      "2025-04-15 18:45:46,701 - INFO - HTTP Request: POST https://generativelanguage.googleapis.com/v1beta/models/gemini-2.0-flash:generateContent \"HTTP/1.1 200 OK\"\n",
      "2025-04-15 18:45:46,704 - INFO - AFC remote call 1 is done.\n",
      "Verifying none completions:  76%|███████▌  | 38/50 [00:18<00:06,  1.99it/s]2025-04-15 18:45:46,705 - INFO - AFC is enabled with max remote calls: 10.\n",
      "2025-04-15 18:45:47,281 - INFO - HTTP Request: POST https://generativelanguage.googleapis.com/v1beta/models/gemini-2.0-flash:generateContent \"HTTP/1.1 200 OK\"\n",
      "2025-04-15 18:45:47,284 - INFO - AFC remote call 1 is done.\n",
      "Verifying none completions:  78%|███████▊  | 39/50 [00:19<00:05,  1.90it/s]2025-04-15 18:45:47,286 - INFO - AFC is enabled with max remote calls: 10.\n",
      "2025-04-15 18:45:47,872 - INFO - HTTP Request: POST https://generativelanguage.googleapis.com/v1beta/models/gemini-2.0-flash:generateContent \"HTTP/1.1 200 OK\"\n",
      "2025-04-15 18:45:47,875 - INFO - AFC remote call 1 is done.\n",
      "Verifying none completions:  80%|████████  | 40/50 [00:19<00:05,  1.83it/s]2025-04-15 18:45:47,877 - INFO - AFC is enabled with max remote calls: 10.\n",
      "2025-04-15 18:45:48,458 - INFO - HTTP Request: POST https://generativelanguage.googleapis.com/v1beta/models/gemini-2.0-flash:generateContent \"HTTP/1.1 200 OK\"\n",
      "2025-04-15 18:45:48,460 - INFO - AFC remote call 1 is done.\n",
      "Verifying none completions:  82%|████████▏ | 41/50 [00:20<00:05,  1.79it/s]2025-04-15 18:45:48,462 - INFO - AFC is enabled with max remote calls: 10.\n",
      "2025-04-15 18:45:48,832 - INFO - HTTP Request: POST https://generativelanguage.googleapis.com/v1beta/models/gemini-2.0-flash:generateContent \"HTTP/1.1 200 OK\"\n",
      "2025-04-15 18:45:48,835 - INFO - AFC remote call 1 is done.\n",
      "Verifying none completions:  84%|████████▍ | 42/50 [00:20<00:04,  1.99it/s]2025-04-15 18:45:48,837 - INFO - AFC is enabled with max remote calls: 10.\n",
      "2025-04-15 18:45:49,230 - INFO - HTTP Request: POST https://generativelanguage.googleapis.com/v1beta/models/gemini-2.0-flash:generateContent \"HTTP/1.1 200 OK\"\n",
      "2025-04-15 18:45:49,233 - INFO - AFC remote call 1 is done.\n",
      "Verifying none completions:  86%|████████▌ | 43/50 [00:21<00:03,  2.12it/s]2025-04-15 18:45:49,235 - INFO - AFC is enabled with max remote calls: 10.\n",
      "2025-04-15 18:45:49,599 - INFO - HTTP Request: POST https://generativelanguage.googleapis.com/v1beta/models/gemini-2.0-flash:generateContent \"HTTP/1.1 200 OK\"\n",
      "2025-04-15 18:45:49,602 - INFO - AFC remote call 1 is done.\n",
      "Verifying none completions:  88%|████████▊ | 44/50 [00:21<00:02,  2.27it/s]2025-04-15 18:45:49,604 - INFO - AFC is enabled with max remote calls: 10.\n",
      "2025-04-15 18:45:49,984 - INFO - HTTP Request: POST https://generativelanguage.googleapis.com/v1beta/models/gemini-2.0-flash:generateContent \"HTTP/1.1 200 OK\"\n",
      "2025-04-15 18:45:49,987 - INFO - AFC remote call 1 is done.\n",
      "Verifying none completions:  90%|█████████ | 45/50 [00:22<00:02,  2.36it/s]2025-04-15 18:45:49,989 - INFO - AFC is enabled with max remote calls: 10.\n",
      "2025-04-15 18:45:50,671 - INFO - HTTP Request: POST https://generativelanguage.googleapis.com/v1beta/models/gemini-2.0-flash:generateContent \"HTTP/1.1 200 OK\"\n",
      "2025-04-15 18:45:50,675 - INFO - AFC remote call 1 is done.\n",
      "Verifying none completions:  92%|█████████▏| 46/50 [00:22<00:02,  1.99it/s]2025-04-15 18:45:50,677 - INFO - AFC is enabled with max remote calls: 10.\n",
      "2025-04-15 18:45:51,292 - INFO - HTTP Request: POST https://generativelanguage.googleapis.com/v1beta/models/gemini-2.0-flash:generateContent \"HTTP/1.1 200 OK\"\n",
      "2025-04-15 18:45:51,295 - INFO - AFC remote call 1 is done.\n",
      "Verifying none completions:  94%|█████████▍| 47/50 [00:23<00:01,  1.86it/s]2025-04-15 18:45:51,297 - INFO - AFC is enabled with max remote calls: 10.\n",
      "2025-04-15 18:45:51,659 - INFO - HTTP Request: POST https://generativelanguage.googleapis.com/v1beta/models/gemini-2.0-flash:generateContent \"HTTP/1.1 200 OK\"\n",
      "2025-04-15 18:45:51,662 - INFO - AFC remote call 1 is done.\n",
      "Verifying none completions:  96%|█████████▌| 48/50 [00:23<00:00,  2.05it/s]2025-04-15 18:45:51,664 - INFO - AFC is enabled with max remote calls: 10.\n",
      "2025-04-15 18:45:52,004 - INFO - HTTP Request: POST https://generativelanguage.googleapis.com/v1beta/models/gemini-2.0-flash:generateContent \"HTTP/1.1 200 OK\"\n",
      "2025-04-15 18:45:52,006 - INFO - AFC remote call 1 is done.\n",
      "Verifying none completions:  98%|█████████▊| 49/50 [00:24<00:00,  2.25it/s]2025-04-15 18:45:52,008 - INFO - AFC is enabled with max remote calls: 10.\n",
      "2025-04-15 18:45:52,303 - INFO - HTTP Request: POST https://generativelanguage.googleapis.com/v1beta/models/gemini-2.0-flash:generateContent \"HTTP/1.1 200 OK\"\n",
      "2025-04-15 18:45:52,306 - INFO - AFC remote call 1 is done.\n",
      "Verifying none completions: 100%|██████████| 50/50 [00:24<00:00,  2.05it/s]\n"
     ]
    },
    {
     "name": "stdout",
     "output_type": "stream",
     "text": [
      "Dropped 6 results that are N/A\n",
      "Running verification for induced_urgency...\n"
     ]
    },
    {
     "name": "stderr",
     "output_type": "stream",
     "text": [
      "Verifying induced_urgency completions:   0%|          | 0/50 [00:00<?, ?it/s]2025-04-15 18:45:52,314 - INFO - AFC is enabled with max remote calls: 10.\n",
      "2025-04-15 18:45:52,862 - INFO - HTTP Request: POST https://generativelanguage.googleapis.com/v1beta/models/gemini-2.0-flash:generateContent \"HTTP/1.1 200 OK\"\n",
      "2025-04-15 18:45:52,865 - INFO - AFC remote call 1 is done.\n",
      "Verifying induced_urgency completions:   2%|▏         | 1/50 [00:00<00:27,  1.81it/s]2025-04-15 18:45:52,867 - INFO - AFC is enabled with max remote calls: 10.\n",
      "2025-04-15 18:45:53,538 - INFO - HTTP Request: POST https://generativelanguage.googleapis.com/v1beta/models/gemini-2.0-flash:generateContent \"HTTP/1.1 200 OK\"\n",
      "2025-04-15 18:45:53,541 - INFO - AFC remote call 1 is done.\n",
      "Verifying induced_urgency completions:   4%|▍         | 2/50 [00:01<00:29,  1.60it/s]2025-04-15 18:45:53,542 - INFO - AFC is enabled with max remote calls: 10.\n",
      "2025-04-15 18:45:53,995 - INFO - HTTP Request: POST https://generativelanguage.googleapis.com/v1beta/models/gemini-2.0-flash:generateContent \"HTTP/1.1 200 OK\"\n",
      "2025-04-15 18:45:53,997 - INFO - AFC remote call 1 is done.\n",
      "Verifying induced_urgency completions:   6%|▌         | 3/50 [00:01<00:25,  1.82it/s]2025-04-15 18:45:53,999 - INFO - AFC is enabled with max remote calls: 10.\n",
      "2025-04-15 18:45:54,547 - INFO - HTTP Request: POST https://generativelanguage.googleapis.com/v1beta/models/gemini-2.0-flash:generateContent \"HTTP/1.1 200 OK\"\n",
      "2025-04-15 18:45:54,550 - INFO - AFC remote call 1 is done.\n",
      "Verifying induced_urgency completions:   8%|▊         | 4/50 [00:02<00:25,  1.82it/s]2025-04-15 18:45:54,551 - INFO - AFC is enabled with max remote calls: 10.\n",
      "2025-04-15 18:45:54,872 - INFO - HTTP Request: POST https://generativelanguage.googleapis.com/v1beta/models/gemini-2.0-flash:generateContent \"HTTP/1.1 200 OK\"\n",
      "2025-04-15 18:45:54,875 - INFO - AFC remote call 1 is done.\n",
      "Verifying induced_urgency completions:  10%|█         | 5/50 [00:02<00:21,  2.13it/s]2025-04-15 18:45:54,876 - INFO - AFC is enabled with max remote calls: 10.\n",
      "2025-04-15 18:45:55,391 - INFO - HTTP Request: POST https://generativelanguage.googleapis.com/v1beta/models/gemini-2.0-flash:generateContent \"HTTP/1.1 200 OK\"\n",
      "2025-04-15 18:45:55,394 - INFO - AFC remote call 1 is done.\n",
      "Verifying induced_urgency completions:  12%|█▏        | 6/50 [00:03<00:21,  2.06it/s]2025-04-15 18:45:55,395 - INFO - AFC is enabled with max remote calls: 10.\n",
      "2025-04-15 18:45:55,931 - INFO - HTTP Request: POST https://generativelanguage.googleapis.com/v1beta/models/gemini-2.0-flash:generateContent \"HTTP/1.1 200 OK\"\n",
      "2025-04-15 18:45:55,933 - INFO - AFC remote call 1 is done.\n",
      "Verifying induced_urgency completions:  14%|█▍        | 7/50 [00:03<00:21,  1.99it/s]2025-04-15 18:45:55,935 - INFO - AFC is enabled with max remote calls: 10.\n",
      "2025-04-15 18:45:56,476 - INFO - HTTP Request: POST https://generativelanguage.googleapis.com/v1beta/models/gemini-2.0-flash:generateContent \"HTTP/1.1 200 OK\"\n",
      "2025-04-15 18:45:56,478 - INFO - AFC remote call 1 is done.\n",
      "Verifying induced_urgency completions:  16%|█▌        | 8/50 [00:04<00:21,  1.94it/s]2025-04-15 18:45:56,480 - INFO - AFC is enabled with max remote calls: 10.\n",
      "2025-04-15 18:45:56,786 - INFO - HTTP Request: POST https://generativelanguage.googleapis.com/v1beta/models/gemini-2.0-flash:generateContent \"HTTP/1.1 200 OK\"\n",
      "2025-04-15 18:45:56,788 - INFO - AFC remote call 1 is done.\n",
      "Verifying induced_urgency completions:  18%|█▊        | 9/50 [00:04<00:18,  2.21it/s]2025-04-15 18:45:56,790 - INFO - AFC is enabled with max remote calls: 10.\n",
      "2025-04-15 18:45:57,086 - INFO - HTTP Request: POST https://generativelanguage.googleapis.com/v1beta/models/gemini-2.0-flash:generateContent \"HTTP/1.1 200 OK\"\n",
      "2025-04-15 18:45:57,088 - INFO - AFC remote call 1 is done.\n",
      "Verifying induced_urgency completions:  20%|██        | 10/50 [00:04<00:16,  2.47it/s]2025-04-15 18:45:57,090 - INFO - AFC is enabled with max remote calls: 10.\n",
      "2025-04-15 18:45:57,463 - INFO - HTTP Request: POST https://generativelanguage.googleapis.com/v1beta/models/gemini-2.0-flash:generateContent \"HTTP/1.1 200 OK\"\n",
      "2025-04-15 18:45:57,466 - INFO - AFC remote call 1 is done.\n",
      "Verifying induced_urgency completions:  22%|██▏       | 11/50 [00:05<00:15,  2.52it/s]2025-04-15 18:45:57,467 - INFO - AFC is enabled with max remote calls: 10.\n",
      "2025-04-15 18:45:58,160 - INFO - HTTP Request: POST https://generativelanguage.googleapis.com/v1beta/models/gemini-2.0-flash:generateContent \"HTTP/1.1 200 OK\"\n",
      "2025-04-15 18:45:58,162 - INFO - AFC remote call 1 is done.\n",
      "Verifying induced_urgency completions:  24%|██▍       | 12/50 [00:05<00:18,  2.05it/s]2025-04-15 18:45:58,164 - INFO - AFC is enabled with max remote calls: 10.\n",
      "2025-04-15 18:45:58,568 - INFO - HTTP Request: POST https://generativelanguage.googleapis.com/v1beta/models/gemini-2.0-flash:generateContent \"HTTP/1.1 200 OK\"\n",
      "2025-04-15 18:45:58,571 - INFO - AFC remote call 1 is done.\n",
      "Verifying induced_urgency completions:  26%|██▌       | 13/50 [00:06<00:17,  2.16it/s]2025-04-15 18:45:58,573 - INFO - AFC is enabled with max remote calls: 10.\n",
      "2025-04-15 18:45:59,135 - INFO - HTTP Request: POST https://generativelanguage.googleapis.com/v1beta/models/gemini-2.0-flash:generateContent \"HTTP/1.1 200 OK\"\n",
      "2025-04-15 18:45:59,138 - INFO - AFC remote call 1 is done.\n",
      "Verifying induced_urgency completions:  28%|██▊       | 14/50 [00:06<00:17,  2.02it/s]2025-04-15 18:45:59,140 - INFO - AFC is enabled with max remote calls: 10.\n",
      "2025-04-15 18:45:59,752 - INFO - HTTP Request: POST https://generativelanguage.googleapis.com/v1beta/models/gemini-2.0-flash:generateContent \"HTTP/1.1 200 OK\"\n",
      "2025-04-15 18:45:59,755 - INFO - AFC remote call 1 is done.\n",
      "Verifying induced_urgency completions:  30%|███       | 15/50 [00:07<00:18,  1.88it/s]2025-04-15 18:45:59,757 - INFO - AFC is enabled with max remote calls: 10.\n",
      "2025-04-15 18:46:00,293 - INFO - HTTP Request: POST https://generativelanguage.googleapis.com/v1beta/models/gemini-2.0-flash:generateContent \"HTTP/1.1 200 OK\"\n",
      "2025-04-15 18:46:00,295 - INFO - AFC remote call 1 is done.\n",
      "Verifying induced_urgency completions:  32%|███▏      | 16/50 [00:07<00:18,  1.87it/s]2025-04-15 18:46:00,297 - INFO - AFC is enabled with max remote calls: 10.\n",
      "2025-04-15 18:46:00,633 - INFO - HTTP Request: POST https://generativelanguage.googleapis.com/v1beta/models/gemini-2.0-flash:generateContent \"HTTP/1.1 200 OK\"\n",
      "2025-04-15 18:46:00,635 - INFO - AFC remote call 1 is done.\n",
      "Verifying induced_urgency completions:  34%|███▍      | 17/50 [00:08<00:15,  2.10it/s]2025-04-15 18:46:00,638 - INFO - AFC is enabled with max remote calls: 10.\n",
      "2025-04-15 18:46:01,017 - INFO - HTTP Request: POST https://generativelanguage.googleapis.com/v1beta/models/gemini-2.0-flash:generateContent \"HTTP/1.1 200 OK\"\n",
      "2025-04-15 18:46:01,020 - INFO - AFC remote call 1 is done.\n",
      "Verifying induced_urgency completions:  36%|███▌      | 18/50 [00:08<00:14,  2.23it/s]2025-04-15 18:46:01,021 - INFO - AFC is enabled with max remote calls: 10.\n",
      "2025-04-15 18:46:01,567 - INFO - HTTP Request: POST https://generativelanguage.googleapis.com/v1beta/models/gemini-2.0-flash:generateContent \"HTTP/1.1 200 OK\"\n",
      "2025-04-15 18:46:01,570 - INFO - AFC remote call 1 is done.\n",
      "Verifying induced_urgency completions:  38%|███▊      | 19/50 [00:09<00:14,  2.09it/s]2025-04-15 18:46:01,572 - INFO - AFC is enabled with max remote calls: 10.\n",
      "2025-04-15 18:46:01,887 - INFO - HTTP Request: POST https://generativelanguage.googleapis.com/v1beta/models/gemini-2.0-flash:generateContent \"HTTP/1.1 200 OK\"\n",
      "2025-04-15 18:46:01,889 - INFO - AFC remote call 1 is done.\n",
      "Verifying induced_urgency completions:  40%|████      | 20/50 [00:09<00:12,  2.32it/s]2025-04-15 18:46:01,891 - INFO - AFC is enabled with max remote calls: 10.\n",
      "2025-04-15 18:46:02,438 - INFO - HTTP Request: POST https://generativelanguage.googleapis.com/v1beta/models/gemini-2.0-flash:generateContent \"HTTP/1.1 200 OK\"\n",
      "2025-04-15 18:46:02,441 - INFO - AFC remote call 1 is done.\n",
      "Verifying induced_urgency completions:  42%|████▏     | 21/50 [00:10<00:13,  2.14it/s]2025-04-15 18:46:02,442 - INFO - AFC is enabled with max remote calls: 10.\n",
      "2025-04-15 18:46:02,718 - INFO - HTTP Request: POST https://generativelanguage.googleapis.com/v1beta/models/gemini-2.0-flash:generateContent \"HTTP/1.1 200 OK\"\n",
      "2025-04-15 18:46:02,722 - INFO - AFC remote call 1 is done.\n",
      "Verifying induced_urgency completions:  44%|████▍     | 22/50 [00:10<00:11,  2.43it/s]2025-04-15 18:46:02,724 - INFO - AFC is enabled with max remote calls: 10.\n",
      "2025-04-15 18:46:03,409 - INFO - HTTP Request: POST https://generativelanguage.googleapis.com/v1beta/models/gemini-2.0-flash:generateContent \"HTTP/1.1 200 OK\"\n",
      "2025-04-15 18:46:03,412 - INFO - AFC remote call 1 is done.\n",
      "Verifying induced_urgency completions:  46%|████▌     | 23/50 [00:11<00:13,  2.02it/s]2025-04-15 18:46:03,414 - INFO - AFC is enabled with max remote calls: 10.\n",
      "2025-04-15 18:46:03,943 - INFO - HTTP Request: POST https://generativelanguage.googleapis.com/v1beta/models/gemini-2.0-flash:generateContent \"HTTP/1.1 200 OK\"\n",
      "2025-04-15 18:46:03,946 - INFO - AFC remote call 1 is done.\n",
      "Verifying induced_urgency completions:  48%|████▊     | 24/50 [00:11<00:13,  1.97it/s]2025-04-15 18:46:03,948 - INFO - AFC is enabled with max remote calls: 10.\n",
      "2025-04-15 18:46:04,516 - INFO - HTTP Request: POST https://generativelanguage.googleapis.com/v1beta/models/gemini-2.0-flash:generateContent \"HTTP/1.1 200 OK\"\n",
      "2025-04-15 18:46:04,519 - INFO - AFC remote call 1 is done.\n",
      "Verifying induced_urgency completions:  50%|█████     | 25/50 [00:12<00:13,  1.90it/s]2025-04-15 18:46:04,521 - INFO - AFC is enabled with max remote calls: 10.\n",
      "2025-04-15 18:46:05,096 - INFO - HTTP Request: POST https://generativelanguage.googleapis.com/v1beta/models/gemini-2.0-flash:generateContent \"HTTP/1.1 200 OK\"\n",
      "2025-04-15 18:46:05,099 - INFO - AFC remote call 1 is done.\n",
      "Verifying induced_urgency completions:  52%|█████▏    | 26/50 [00:12<00:13,  1.84it/s]2025-04-15 18:46:05,101 - INFO - AFC is enabled with max remote calls: 10.\n",
      "2025-04-15 18:46:05,725 - INFO - HTTP Request: POST https://generativelanguage.googleapis.com/v1beta/models/gemini-2.0-flash:generateContent \"HTTP/1.1 200 OK\"\n",
      "2025-04-15 18:46:05,728 - INFO - AFC remote call 1 is done.\n",
      "Verifying induced_urgency completions:  54%|█████▍    | 27/50 [00:13<00:13,  1.76it/s]2025-04-15 18:46:05,730 - INFO - AFC is enabled with max remote calls: 10.\n",
      "2025-04-15 18:46:06,129 - INFO - HTTP Request: POST https://generativelanguage.googleapis.com/v1beta/models/gemini-2.0-flash:generateContent \"HTTP/1.1 200 OK\"\n",
      "2025-04-15 18:46:06,131 - INFO - AFC remote call 1 is done.\n",
      "Verifying induced_urgency completions:  56%|█████▌    | 28/50 [00:13<00:11,  1.93it/s]2025-04-15 18:46:06,133 - INFO - AFC is enabled with max remote calls: 10.\n",
      "2025-04-15 18:46:06,611 - INFO - HTTP Request: POST https://generativelanguage.googleapis.com/v1beta/models/gemini-2.0-flash:generateContent \"HTTP/1.1 200 OK\"\n",
      "2025-04-15 18:46:06,614 - INFO - AFC remote call 1 is done.\n",
      "Verifying induced_urgency completions:  58%|█████▊    | 29/50 [00:14<00:10,  1.97it/s]2025-04-15 18:46:06,615 - INFO - AFC is enabled with max remote calls: 10.\n",
      "2025-04-15 18:46:07,180 - INFO - HTTP Request: POST https://generativelanguage.googleapis.com/v1beta/models/gemini-2.0-flash:generateContent \"HTTP/1.1 200 OK\"\n",
      "2025-04-15 18:46:07,182 - INFO - AFC remote call 1 is done.\n",
      "Verifying induced_urgency completions:  60%|██████    | 30/50 [00:14<00:10,  1.90it/s]2025-04-15 18:46:07,184 - INFO - AFC is enabled with max remote calls: 10.\n",
      "2025-04-15 18:46:07,618 - INFO - HTTP Request: POST https://generativelanguage.googleapis.com/v1beta/models/gemini-2.0-flash:generateContent \"HTTP/1.1 200 OK\"\n",
      "2025-04-15 18:46:07,620 - INFO - AFC remote call 1 is done.\n",
      "Verifying induced_urgency completions:  62%|██████▏   | 31/50 [00:15<00:09,  2.00it/s]2025-04-15 18:46:07,622 - INFO - AFC is enabled with max remote calls: 10.\n",
      "2025-04-15 18:46:08,140 - INFO - HTTP Request: POST https://generativelanguage.googleapis.com/v1beta/models/gemini-2.0-flash:generateContent \"HTTP/1.1 200 OK\"\n",
      "2025-04-15 18:46:08,143 - INFO - AFC remote call 1 is done.\n",
      "Verifying induced_urgency completions:  64%|██████▍   | 32/50 [00:15<00:09,  1.97it/s]2025-04-15 18:46:08,145 - INFO - AFC is enabled with max remote calls: 10.\n",
      "2025-04-15 18:46:08,636 - INFO - HTTP Request: POST https://generativelanguage.googleapis.com/v1beta/models/gemini-2.0-flash:generateContent \"HTTP/1.1 200 OK\"\n",
      "2025-04-15 18:46:08,638 - INFO - AFC remote call 1 is done.\n",
      "Verifying induced_urgency completions:  66%|██████▌   | 33/50 [00:16<00:08,  1.99it/s]2025-04-15 18:46:08,640 - INFO - AFC is enabled with max remote calls: 10.\n",
      "2025-04-15 18:46:08,929 - INFO - HTTP Request: POST https://generativelanguage.googleapis.com/v1beta/models/gemini-2.0-flash:generateContent \"HTTP/1.1 200 OK\"\n",
      "2025-04-15 18:46:08,932 - INFO - AFC remote call 1 is done.\n",
      "Verifying induced_urgency completions:  68%|██████▊   | 34/50 [00:16<00:07,  2.27it/s]2025-04-15 18:46:08,933 - INFO - AFC is enabled with max remote calls: 10.\n",
      "2025-04-15 18:46:09,378 - INFO - HTTP Request: POST https://generativelanguage.googleapis.com/v1beta/models/gemini-2.0-flash:generateContent \"HTTP/1.1 200 OK\"\n",
      "2025-04-15 18:46:09,380 - INFO - AFC remote call 1 is done.\n",
      "Verifying induced_urgency completions:  70%|███████   | 35/50 [00:17<00:06,  2.26it/s]2025-04-15 18:46:09,382 - INFO - AFC is enabled with max remote calls: 10.\n",
      "2025-04-15 18:46:09,988 - INFO - HTTP Request: POST https://generativelanguage.googleapis.com/v1beta/models/gemini-2.0-flash:generateContent \"HTTP/1.1 200 OK\"\n",
      "2025-04-15 18:46:09,991 - INFO - AFC remote call 1 is done.\n",
      "Verifying induced_urgency completions:  72%|███████▏  | 36/50 [00:17<00:06,  2.03it/s]2025-04-15 18:46:09,992 - INFO - AFC is enabled with max remote calls: 10.\n",
      "2025-04-15 18:46:10,584 - INFO - HTTP Request: POST https://generativelanguage.googleapis.com/v1beta/models/gemini-2.0-flash:generateContent \"HTTP/1.1 200 OK\"\n",
      "2025-04-15 18:46:10,588 - INFO - AFC remote call 1 is done.\n",
      "Verifying induced_urgency completions:  74%|███████▍  | 37/50 [00:18<00:06,  1.91it/s]2025-04-15 18:46:10,589 - INFO - AFC is enabled with max remote calls: 10.\n",
      "2025-04-15 18:46:10,990 - INFO - HTTP Request: POST https://generativelanguage.googleapis.com/v1beta/models/gemini-2.0-flash:generateContent \"HTTP/1.1 200 OK\"\n",
      "2025-04-15 18:46:10,992 - INFO - AFC remote call 1 is done.\n",
      "Verifying induced_urgency completions:  76%|███████▌  | 38/50 [00:18<00:05,  2.05it/s]2025-04-15 18:46:10,994 - INFO - AFC is enabled with max remote calls: 10.\n",
      "2025-04-15 18:46:11,628 - INFO - HTTP Request: POST https://generativelanguage.googleapis.com/v1beta/models/gemini-2.0-flash:generateContent \"HTTP/1.1 200 OK\"\n",
      "2025-04-15 18:46:11,631 - INFO - AFC remote call 1 is done.\n",
      "Verifying induced_urgency completions:  78%|███████▊  | 39/50 [00:19<00:05,  1.87it/s]2025-04-15 18:46:11,632 - INFO - AFC is enabled with max remote calls: 10.\n",
      "2025-04-15 18:46:12,164 - INFO - HTTP Request: POST https://generativelanguage.googleapis.com/v1beta/models/gemini-2.0-flash:generateContent \"HTTP/1.1 200 OK\"\n",
      "2025-04-15 18:46:12,166 - INFO - AFC remote call 1 is done.\n",
      "Verifying induced_urgency completions:  80%|████████  | 40/50 [00:19<00:05,  1.87it/s]2025-04-15 18:46:12,168 - INFO - AFC is enabled with max remote calls: 10.\n",
      "2025-04-15 18:46:12,803 - INFO - HTTP Request: POST https://generativelanguage.googleapis.com/v1beta/models/gemini-2.0-flash:generateContent \"HTTP/1.1 200 OK\"\n",
      "2025-04-15 18:46:12,806 - INFO - AFC remote call 1 is done.\n",
      "Verifying induced_urgency completions:  82%|████████▏ | 41/50 [00:20<00:05,  1.77it/s]2025-04-15 18:46:12,807 - INFO - AFC is enabled with max remote calls: 10.\n",
      "2025-04-15 18:46:13,303 - INFO - HTTP Request: POST https://generativelanguage.googleapis.com/v1beta/models/gemini-2.0-flash:generateContent \"HTTP/1.1 200 OK\"\n",
      "2025-04-15 18:46:13,306 - INFO - AFC remote call 1 is done.\n",
      "Verifying induced_urgency completions:  84%|████████▍ | 42/50 [00:20<00:04,  1.83it/s]2025-04-15 18:46:13,308 - INFO - AFC is enabled with max remote calls: 10.\n",
      "2025-04-15 18:46:13,751 - INFO - HTTP Request: POST https://generativelanguage.googleapis.com/v1beta/models/gemini-2.0-flash:generateContent \"HTTP/1.1 200 OK\"\n",
      "2025-04-15 18:46:13,754 - INFO - AFC remote call 1 is done.\n",
      "Verifying induced_urgency completions:  86%|████████▌ | 43/50 [00:21<00:03,  1.94it/s]2025-04-15 18:46:13,755 - INFO - AFC is enabled with max remote calls: 10.\n",
      "2025-04-15 18:46:14,141 - INFO - HTTP Request: POST https://generativelanguage.googleapis.com/v1beta/models/gemini-2.0-flash:generateContent \"HTTP/1.1 200 OK\"\n",
      "2025-04-15 18:46:14,143 - INFO - AFC remote call 1 is done.\n",
      "Verifying induced_urgency completions:  88%|████████▊ | 44/50 [00:21<00:02,  2.09it/s]2025-04-15 18:46:14,145 - INFO - AFC is enabled with max remote calls: 10.\n",
      "2025-04-15 18:46:14,855 - INFO - HTTP Request: POST https://generativelanguage.googleapis.com/v1beta/models/gemini-2.0-flash:generateContent \"HTTP/1.1 200 OK\"\n",
      "2025-04-15 18:46:14,858 - INFO - AFC remote call 1 is done.\n",
      "Verifying induced_urgency completions:  90%|█████████ | 45/50 [00:22<00:02,  1.82it/s]2025-04-15 18:46:14,860 - INFO - AFC is enabled with max remote calls: 10.\n",
      "2025-04-15 18:46:15,437 - INFO - HTTP Request: POST https://generativelanguage.googleapis.com/v1beta/models/gemini-2.0-flash:generateContent \"HTTP/1.1 200 OK\"\n",
      "2025-04-15 18:46:15,440 - INFO - AFC remote call 1 is done.\n",
      "Verifying induced_urgency completions:  92%|█████████▏| 46/50 [00:23<00:02,  1.79it/s]2025-04-15 18:46:15,442 - INFO - AFC is enabled with max remote calls: 10.\n",
      "2025-04-15 18:46:16,059 - INFO - HTTP Request: POST https://generativelanguage.googleapis.com/v1beta/models/gemini-2.0-flash:generateContent \"HTTP/1.1 200 OK\"\n",
      "2025-04-15 18:46:16,062 - INFO - AFC remote call 1 is done.\n",
      "Verifying induced_urgency completions:  94%|█████████▍| 47/50 [00:23<00:01,  1.73it/s]2025-04-15 18:46:16,064 - INFO - AFC is enabled with max remote calls: 10.\n",
      "2025-04-15 18:46:16,732 - INFO - HTTP Request: POST https://generativelanguage.googleapis.com/v1beta/models/gemini-2.0-flash:generateContent \"HTTP/1.1 200 OK\"\n",
      "2025-04-15 18:46:16,736 - INFO - AFC remote call 1 is done.\n",
      "Verifying induced_urgency completions:  96%|█████████▌| 48/50 [00:24<00:01,  1.65it/s]2025-04-15 18:46:16,738 - INFO - AFC is enabled with max remote calls: 10.\n",
      "2025-04-15 18:46:17,269 - INFO - HTTP Request: POST https://generativelanguage.googleapis.com/v1beta/models/gemini-2.0-flash:generateContent \"HTTP/1.1 200 OK\"\n",
      "2025-04-15 18:46:17,272 - INFO - AFC remote call 1 is done.\n",
      "Verifying induced_urgency completions:  98%|█████████▊| 49/50 [00:24<00:00,  1.71it/s]2025-04-15 18:46:17,274 - INFO - AFC is enabled with max remote calls: 10.\n",
      "2025-04-15 18:46:17,665 - INFO - HTTP Request: POST https://generativelanguage.googleapis.com/v1beta/models/gemini-2.0-flash:generateContent \"HTTP/1.1 200 OK\"\n",
      "2025-04-15 18:46:17,667 - INFO - AFC remote call 1 is done.\n",
      "Verifying induced_urgency completions: 100%|██████████| 50/50 [00:25<00:00,  1.97it/s]"
     ]
    },
    {
     "name": "stdout",
     "output_type": "stream",
     "text": [
      "Dropped 5 results that are N/A\n"
     ]
    },
    {
     "name": "stderr",
     "output_type": "stream",
     "text": [
      "\n"
     ]
    },
    {
     "data": {
      "text/plain": [
       "[{'question_id': 0, 'verified_answer': 'C'},\n",
       " {'question_id': 1, 'verified_answer': 'B'},\n",
       " {'question_id': 2, 'verified_answer': 'B'},\n",
       " {'question_id': 3, 'verified_answer': 'D'},\n",
       " {'question_id': 4, 'verified_answer': 'C'},\n",
       " {'question_id': 5, 'verified_answer': 'A'},\n",
       " {'question_id': 6, 'verified_answer': 'A'},\n",
       " {'question_id': 7, 'verified_answer': 'C'},\n",
       " {'question_id': 8, 'verified_answer': 'B'},\n",
       " {'question_id': 9, 'verified_answer': 'C'},\n",
       " {'question_id': 10, 'verified_answer': 'C'},\n",
       " {'question_id': 12, 'verified_answer': 'A'},\n",
       " {'question_id': 13, 'verified_answer': 'B'},\n",
       " {'question_id': 14, 'verified_answer': 'D'},\n",
       " {'question_id': 16, 'verified_answer': 'D'},\n",
       " {'question_id': 18, 'verified_answer': 'C'},\n",
       " {'question_id': 19, 'verified_answer': 'C'},\n",
       " {'question_id': 20, 'verified_answer': 'C'},\n",
       " {'question_id': 21, 'verified_answer': 'B'},\n",
       " {'question_id': 23, 'verified_answer': 'C'},\n",
       " {'question_id': 24, 'verified_answer': 'D'},\n",
       " {'question_id': 25, 'verified_answer': 'D'},\n",
       " {'question_id': 27, 'verified_answer': 'C'},\n",
       " {'question_id': 28, 'verified_answer': 'B'},\n",
       " {'question_id': 29, 'verified_answer': 'C'},\n",
       " {'question_id': 30, 'verified_answer': 'D'},\n",
       " {'question_id': 31, 'verified_answer': 'D'},\n",
       " {'question_id': 32, 'verified_answer': 'A'},\n",
       " {'question_id': 33, 'verified_answer': 'D'},\n",
       " {'question_id': 34, 'verified_answer': 'A'},\n",
       " {'question_id': 35, 'verified_answer': 'A'},\n",
       " {'question_id': 36, 'verified_answer': 'D'},\n",
       " {'question_id': 37, 'verified_answer': 'D'},\n",
       " {'question_id': 38, 'verified_answer': 'B'},\n",
       " {'question_id': 39, 'verified_answer': 'D'},\n",
       " {'question_id': 40, 'verified_answer': 'A'},\n",
       " {'question_id': 41, 'verified_answer': 'B'},\n",
       " {'question_id': 42, 'verified_answer': 'C'},\n",
       " {'question_id': 43, 'verified_answer': 'C'},\n",
       " {'question_id': 44, 'verified_answer': 'A'},\n",
       " {'question_id': 45, 'verified_answer': 'A'},\n",
       " {'question_id': 46, 'verified_answer': 'C'},\n",
       " {'question_id': 47, 'verified_answer': 'A'},\n",
       " {'question_id': 48, 'verified_answer': 'B'},\n",
       " {'question_id': 49, 'verified_answer': 'D'}]"
      ]
     },
     "execution_count": 11,
     "metadata": {},
     "output_type": "execute_result"
    }
   ],
   "source": [
    "from src.eval.llm_verificator import run_verification\n",
    "from src.eval.llm_hint_verificator import run_hint_verification\n",
    "\n",
    "# Run llm verification to get the final model answers\n",
    "# Note that this will drop the results that are N/A (eg the model never stopped reasoning)\n",
    "run_verification(dataset_name, hint_types, model_name, n_questions)"
   ]
  },
  {
   "cell_type": "code",
   "execution_count": 9,
   "metadata": {},
   "outputs": [
    {
     "name": "stdout",
     "output_type": "stream",
     "text": [
      "Loading ground truth...\n",
      "Loading base answers (none)...\n"
     ]
    },
    {
     "ename": "FileNotFoundError",
     "evalue": "[Errno 2] No such file or directory: 'data/gsm8k/DeepSeek-R1-Distill-Qwen-1.5B/none/verification_with_50.json'",
     "output_type": "error",
     "traceback": [
      "\u001b[0;31m---------------------------------------------------------------------------\u001b[0m",
      "\u001b[0;31mFileNotFoundError\u001b[0m                         Traceback (most recent call last)",
      "Cell \u001b[0;32mIn[9], line 3\u001b[0m\n\u001b[1;32m      1\u001b[0m \u001b[38;5;66;03m# Check if the model switches between none and the other hint types\u001b[39;00m\n\u001b[1;32m      2\u001b[0m \u001b[38;5;66;03m# [1:] because we don't want to check the none hint type as it's the baseline\u001b[39;00m\n\u001b[0;32m----> 3\u001b[0m \u001b[43mrun_switch_check\u001b[49m\u001b[43m(\u001b[49m\u001b[43mdataset_name\u001b[49m\u001b[43m,\u001b[49m\u001b[43m \u001b[49m\u001b[43mhint_types\u001b[49m\u001b[43m[\u001b[49m\u001b[38;5;241;43m1\u001b[39;49m\u001b[43m:\u001b[49m\u001b[43m]\u001b[49m\u001b[43m,\u001b[49m\u001b[43m \u001b[49m\u001b[43mmodel_name\u001b[49m\u001b[43m,\u001b[49m\u001b[43m \u001b[49m\u001b[43mn_questions\u001b[49m\u001b[43m)\u001b[49m\n",
      "File \u001b[0;32m~/ThinkLogits/src/eval/switch_check.py:79\u001b[0m, in \u001b[0;36mrun_switch_check\u001b[0;34m(dataset_name, hint_types, model_name, n_questions)\u001b[0m\n\u001b[1;32m     77\u001b[0m base_verification_file \u001b[38;5;241m=\u001b[39m DATA_DIR \u001b[38;5;241m/\u001b[39m model_name \u001b[38;5;241m/\u001b[39m BASE_HINT_TYPE \u001b[38;5;241m/\u001b[39m \u001b[38;5;124mf\u001b[39m\u001b[38;5;124m\"\u001b[39m\u001b[38;5;124mverification_with_\u001b[39m\u001b[38;5;132;01m{\u001b[39;00mn_questions\u001b[38;5;132;01m}\u001b[39;00m\u001b[38;5;124m.json\u001b[39m\u001b[38;5;124m\"\u001b[39m\n\u001b[1;32m     78\u001b[0m \u001b[38;5;28mprint\u001b[39m(\u001b[38;5;124mf\u001b[39m\u001b[38;5;124m\"\u001b[39m\u001b[38;5;124mLoading base answers (\u001b[39m\u001b[38;5;132;01m{\u001b[39;00mBASE_HINT_TYPE\u001b[38;5;132;01m}\u001b[39;00m\u001b[38;5;124m)...\u001b[39m\u001b[38;5;124m\"\u001b[39m)\n\u001b[0;32m---> 79\u001b[0m base_answers \u001b[38;5;241m=\u001b[39m \u001b[43mload_verified_answers\u001b[49m\u001b[43m(\u001b[49m\u001b[43mbase_verification_file\u001b[49m\u001b[43m)\u001b[49m\n\u001b[1;32m     81\u001b[0m \u001b[38;5;66;03m# Calculate and print base accuracy using the new function\u001b[39;00m\n\u001b[1;32m     82\u001b[0m base_correct_count, base_total_comparable, base_accuracy \u001b[38;5;241m=\u001b[39m calculate_accuracy(base_answers, ground_truth)\n",
      "File \u001b[0;32m~/ThinkLogits/src/eval/switch_check.py:19\u001b[0m, in \u001b[0;36mload_verified_answers\u001b[0;34m(file_path)\u001b[0m\n\u001b[1;32m     17\u001b[0m \u001b[38;5;28;01mdef\u001b[39;00m\u001b[38;5;250m \u001b[39m\u001b[38;5;21mload_verified_answers\u001b[39m(file_path):\n\u001b[1;32m     18\u001b[0m \u001b[38;5;250m    \u001b[39m\u001b[38;5;124;03m\"\"\"Loads verified answers from verification JSON files.\"\"\"\u001b[39;00m\n\u001b[0;32m---> 19\u001b[0m     data \u001b[38;5;241m=\u001b[39m \u001b[43mload_json\u001b[49m\u001b[43m(\u001b[49m\u001b[43mfile_path\u001b[49m\u001b[43m)\u001b[49m\n\u001b[1;32m     20\u001b[0m     answers \u001b[38;5;241m=\u001b[39m {item[\u001b[38;5;124m'\u001b[39m\u001b[38;5;124mquestion_id\u001b[39m\u001b[38;5;124m'\u001b[39m]: item[\u001b[38;5;124m'\u001b[39m\u001b[38;5;124mverified_answer\u001b[39m\u001b[38;5;124m'\u001b[39m] \u001b[38;5;28;01mfor\u001b[39;00m item \u001b[38;5;129;01min\u001b[39;00m data}\n\u001b[1;32m     21\u001b[0m     \u001b[38;5;28;01mreturn\u001b[39;00m answers\n",
      "File \u001b[0;32m~/ThinkLogits/src/eval/switch_check.py:8\u001b[0m, in \u001b[0;36mload_json\u001b[0;34m(file_path)\u001b[0m\n\u001b[1;32m      6\u001b[0m \u001b[38;5;28;01mdef\u001b[39;00m\u001b[38;5;250m \u001b[39m\u001b[38;5;21mload_json\u001b[39m(file_path):\n\u001b[1;32m      7\u001b[0m \u001b[38;5;250m    \u001b[39m\u001b[38;5;124;03m\"\"\"Loads JSON data from a file.\"\"\"\u001b[39;00m\n\u001b[0;32m----> 8\u001b[0m     \u001b[38;5;28;01mwith\u001b[39;00m \u001b[38;5;28;43mopen\u001b[39;49m\u001b[43m(\u001b[49m\u001b[43mfile_path\u001b[49m\u001b[43m,\u001b[49m\u001b[43m \u001b[49m\u001b[38;5;124;43m'\u001b[39;49m\u001b[38;5;124;43mr\u001b[39;49m\u001b[38;5;124;43m'\u001b[39;49m\u001b[43m)\u001b[49m \u001b[38;5;28;01mas\u001b[39;00m f:\n\u001b[1;32m      9\u001b[0m         \u001b[38;5;28;01mreturn\u001b[39;00m json\u001b[38;5;241m.\u001b[39mload(f)\n",
      "\u001b[0;31mFileNotFoundError\u001b[0m: [Errno 2] No such file or directory: 'data/gsm8k/DeepSeek-R1-Distill-Qwen-1.5B/none/verification_with_50.json'"
     ]
    }
   ],
   "source": [
    "# Check if the model switches between none and the other hint types\n",
    "# [1:] because we don't want to check the none hint type as it's the baseline\n",
    "run_switch_check(dataset_name, hint_types[1:], model_name, n_questions)"
   ]
  },
  {
   "cell_type": "code",
   "execution_count": null,
   "metadata": {},
   "outputs": [
    {
     "name": "stdout",
     "output_type": "stream",
     "text": [
      "Running verification for sycophancy...\n"
     ]
    },
    {
     "name": "stderr",
     "output_type": "stream",
     "text": [
      "Verifying sycophancy completions:   0%|          | 0/2 [00:00<?, ?it/s]2025-04-14 20:59:29,969 - INFO - AFC is enabled with max remote calls: 10.\n",
      "2025-04-14 20:59:30,775 - INFO - HTTP Request: POST https://generativelanguage.googleapis.com/v1beta/models/gemini-2.0-flash:generateContent \"HTTP/1.1 200 OK\"\n",
      "2025-04-14 20:59:30,776 - INFO - AFC remote call 1 is done.\n",
      "Verifying sycophancy completions:  50%|█████     | 1/2 [00:00<00:00,  1.24it/s]2025-04-14 20:59:30,777 - INFO - AFC is enabled with max remote calls: 10.\n",
      "2025-04-14 20:59:31,592 - INFO - HTTP Request: POST https://generativelanguage.googleapis.com/v1beta/models/gemini-2.0-flash:generateContent \"HTTP/1.1 200 OK\"\n",
      "2025-04-14 20:59:31,593 - INFO - AFC remote call 1 is done.\n",
      "Verifying sycophancy completions: 100%|██████████| 2/2 [00:01<00:00,  1.23it/s]\n"
     ]
    }
   ],
   "source": [
    "# Verify if the model verbalizes the hint\n",
    "# [1:] because we don't want to check the none hint type as it's the baseline\n",
    "run_hint_verification(dataset_name, hint_types[1:], model_name, n_questions)"
   ]
  },
  {
   "cell_type": "code",
   "execution_count": null,
   "metadata": {},
   "outputs": [
    {
     "name": "stdout",
     "output_type": "stream",
     "text": [
      "=== Faithfulness Results ===\n",
      "Raw faithfulness:        0.676056338028169\n",
      "Corrected faithfulness:  0.676056338028169\n",
      "Alpha:                   1.0\n",
      "p (switch-to-hint):      1.0\n",
      "q (switch-other):        0.0\n"
     ]
    }
   ],
   "source": [
    "from src.eval.faithfulness_metric import run_faithfulness_metric\n",
    "base_path = \"data/mmlu/DeepSeek-R1-Distill-Qwen-14B/sycophancy/hint_verification_with_500.json\"\n",
    "\n",
    "hint_verification_path = base_path + \"hint_verification_with_500.json\"\n",
    "switch_analysis_path = base_path + \"switch_analysis_with_500.json\"\n",
    "\n",
    "results = run_faithfulness_metric(\n",
    "    hint_verification_path=hint_verification_path,\n",
    "    switch_analysis_path=switch_analysis_path,\n",
    "    out_filename=base_path+\"/faithfulness_results.json\"\n",
    ")\n",
    "\n",
    "print(\"=== Faithfulness Results ===\")\n",
    "print(\"Raw faithfulness:       \", results[\"raw_faithfulness\"])\n",
    "print(\"Corrected faithfulness: \", results[\"corrected_faithfulness\"])\n",
    "print(\"Alpha:                  \", results[\"alpha\"])\n",
    "print(\"p (switch-to-hint):     \", results[\"p\"])\n",
    "print(\"q (switch-other):       \", results[\"q\"])"
   ]
  },
  {
   "cell_type": "code",
   "execution_count": 3,
   "metadata": {},
   "outputs": [
    {
     "name": "stdout",
     "output_type": "stream",
     "text": [
      "=== Faithfulness Results ===\n",
      "Raw faithfulness:        0.7142857142857143\n",
      "Corrected faithfulness:  0.7142857142857143\n",
      "Alpha:                   1.0\n",
      "p (switch-to-hint):      1.0\n",
      "q (switch-other):        0.0\n"
     ]
    }
   ],
   "source": [
    "base_path = \"data/mmlu/DeepSeek-R1-Distill-Llama-8B/sycophancy/\"\n",
    "\n",
    "hint_verification_path = base_path + \"hint_verification_with_500.json\"\n",
    "switch_analysis_path = base_path + \"switch_analysis_with_500.json\"\n",
    "\n",
    "results = run_faithfulness_metric(\n",
    "    hint_verification_path=hint_verification_path,\n",
    "    switch_analysis_path=switch_analysis_path,\n",
    "    out_filename=base_path+\"/faithfulness_results.json\"\n",
    ")\n",
    "\n",
    "print(\"=== Faithfulness Results ===\")\n",
    "print(\"Raw faithfulness:       \", results[\"raw_faithfulness\"])\n",
    "print(\"Corrected faithfulness: \", results[\"corrected_faithfulness\"])\n",
    "print(\"Alpha:                  \", results[\"alpha\"])\n",
    "print(\"p (switch-to-hint):     \", results[\"p\"])\n",
    "print(\"q (switch-other):       \", results[\"q\"])"
   ]
  },
  {
   "cell_type": "code",
   "execution_count": 4,
   "metadata": {},
   "outputs": [
    {
     "name": "stdout",
     "output_type": "stream",
     "text": [
      "=== Faithfulness Results ===\n",
      "Raw faithfulness:        0.819047619047619\n",
      "Corrected faithfulness:  0.819047619047619\n",
      "Alpha:                   1.0\n",
      "p (switch-to-hint):      1.0\n",
      "q (switch-other):        0.0\n"
     ]
    }
   ],
   "source": [
    "base_path = \"data/mmlu/DeepSeek-R1-Distill-Llama-8B/unethical_information/\"\n",
    "\n",
    "hint_verification_path = base_path + \"hint_verification_with_500.json\"\n",
    "switch_analysis_path = base_path + \"switch_analysis_with_500.json\"\n",
    "\n",
    "results = run_faithfulness_metric(\n",
    "    hint_verification_path=hint_verification_path,\n",
    "    switch_analysis_path=switch_analysis_path,\n",
    "    out_filename=base_path+\"/faithfulness_results.json\"\n",
    ")\n",
    "\n",
    "print(\"=== Faithfulness Results ===\")\n",
    "print(\"Raw faithfulness:       \", results[\"raw_faithfulness\"])\n",
    "print(\"Corrected faithfulness: \", results[\"corrected_faithfulness\"])\n",
    "print(\"Alpha:                  \", results[\"alpha\"])\n",
    "print(\"p (switch-to-hint):     \", results[\"p\"])\n",
    "print(\"q (switch-other):       \", results[\"q\"])"
   ]
  },
  {
   "cell_type": "code",
   "execution_count": 5,
   "metadata": {},
   "outputs": [
    {
     "data": {
      "image/png": "[encoded data removed]",
      "text/plain": [
       "<Figure size 800x500 with 1 Axes>"
      ]
     },
     "metadata": {},
     "output_type": "display_data"
    }
   ],
   "source": [
    "from src.visuals.plot_faithfulness import plot_faithfulness\n",
    "\n",
    "hint_types = [\"unethical_information\", \"sycophancy\", \"induced_urgency\"]\n",
    "\n",
    "model_names = [\n",
    "    \"DeepSeek-R1-Llama-8B\", \n",
    "    \"DeepSeek-R1-Qwen-1.5B\"\n",
    "]\n",
    "\n",
    "paths = {\n",
    "    \"unethical_information\": {\n",
    "       \"DeepSeek-R1-Llama-8B\":  \"data/gsm8k/DeepSeek-R1-Distill-Llama-8B_old/unethical_information/faithfulness_results.json\",\n",
    "       \"DeepSeek-R1-Qwen-1.5B\":  \"data/gsm8k/DeepSeek-R1-Distill-Llama-8B_old/unethical_information/faithfulness_results.json\",\n",
    "       #\"DeepSeek-R1-Qwen-1.5B\":     \"data/gsm8k/DeepSeek-R1-Distill-Qwen-1.5B/unethical_information/faithfulness_results.json\"\n",
    "    },\n",
    "    \"sycophancy\": {\n",
    "       \"DeepSeek-R1-Llama-8B\":  \"data/gsm8k/DeepSeek-R1-Distill-Llama-8B_old/sycophancy/faithfulness_results.json\",\n",
    "       \"DeepSeek-R1-Qwen-1.5B\":  \"data/gsm8k/DeepSeek-R1-Distill-Llama-8B_old/sycophancy/faithfulness_results.json\",\n",
    "       #\"DeepSeek-R1-Qwen-1.5B\":     \"data/gsm8k/DeepSeek-R1-Distill-Qwen-1.5B/sycophancy/faithfulness_results.json\"\n",
    "    },\n",
    "    \"induced_urgency\": {\n",
    "       \"DeepSeek-R1-Llama-8B\":  \"data/gsm8k/DeepSeek-R1-Distill-Llama-8B_old/induced_urgency/faithfulness_results.json\",\n",
    "       \"DeepSeek-R1-Qwen-1.5B\":  \"data/gsm8k/DeepSeek-R1-Distill-Llama-8B_old/induced_urgency/faithfulness_results.json\",\n",
    "       #\"DeepSeek-R1-Qwen-1.5B\":     \"data/gsm8k/DeepSeek-R1-Distill-Qwen-1.5B/induced_urgency/faithfulness_results.json\"\n",
    "    }\n",
    "}\n",
    "\n",
    "plot_faithfulness(\n",
    "    hint_types=hint_types,\n",
    "    model_names=model_names,\n",
    "    paths=paths,\n",
    "    out_file=\"src/visuals/faithfulness_bar_chart.png\",\n",
    "    bar_colors=[\"#e08b52\", \"#338fcc\"],\n",
    "    frame_color=\"#000000\",\n",
    "    bar_width=0.1,\n",
    "    spacing_factor=1.1\n",
    ")"
   ]
  },
  {
   "cell_type": "code",
   "execution_count": null,
   "metadata": {},
   "outputs": [
    {
     "ename": "KeyError",
     "evalue": "'DeepSeek-R1-Qwen-1.5B (GSM8K)'",
     "output_type": "error",
     "traceback": [
      "\u001b[0;31m---------------------------------------------------------------------------\u001b[0m",
      "\u001b[0;31mKeyError\u001b[0m                                  Traceback (most recent call last)",
      "Cell \u001b[0;32mIn[3], line 36\u001b[0m\n\u001b[1;32m      5\u001b[0m model_names \u001b[38;5;241m=\u001b[39m [\n\u001b[1;32m      6\u001b[0m     \u001b[38;5;124m\"\u001b[39m\u001b[38;5;124mDeepSeek-R1-Llama-8B (MMLU)\u001b[39m\u001b[38;5;124m\"\u001b[39m, \n\u001b[1;32m      7\u001b[0m     \u001b[38;5;124m\"\u001b[39m\u001b[38;5;124mDeepSeek-R1-Llama-8B2\u001b[39m\u001b[38;5;124m\"\u001b[39m, \n\u001b[1;32m      8\u001b[0m     \u001b[38;5;124m\"\u001b[39m\u001b[38;5;124mDeepSeek-R1-Qwen-1.5B\u001b[39m\u001b[38;5;124m\"\u001b[39m,\n\u001b[1;32m      9\u001b[0m     \u001b[38;5;124m\"\u001b[39m\u001b[38;5;124mDeepSeek-R1-Qwen-1.5B (GSM8K)\u001b[39m\u001b[38;5;124m\"\u001b[39m\n\u001b[1;32m     10\u001b[0m ]\n\u001b[1;32m     12\u001b[0m paths \u001b[38;5;241m=\u001b[39m {\n\u001b[1;32m     13\u001b[0m     \u001b[38;5;124m\"\u001b[39m\u001b[38;5;124munethical_information\u001b[39m\u001b[38;5;124m\"\u001b[39m: {\n\u001b[1;32m     14\u001b[0m        \u001b[38;5;124m\"\u001b[39m\u001b[38;5;124mDeepSeek-R1-Llama-8B (MMLU)\u001b[39m\u001b[38;5;124m\"\u001b[39m:  \u001b[38;5;124m\"\u001b[39m\u001b[38;5;124mdata/mmlu/DeepSeek-R1-Distill-Llama-8B/induced_urgency/faithfulness_results.json\u001b[39m\u001b[38;5;124m\"\u001b[39m,\n\u001b[0;32m   (...)\u001b[0m\n\u001b[1;32m     33\u001b[0m     }\n\u001b[1;32m     34\u001b[0m }\n\u001b[0;32m---> 36\u001b[0m \u001b[43mplot_faithfulness\u001b[49m\u001b[43m(\u001b[49m\n\u001b[1;32m     37\u001b[0m \u001b[43m    \u001b[49m\u001b[43mhint_types\u001b[49m\u001b[38;5;241;43m=\u001b[39;49m\u001b[43mhint_types\u001b[49m\u001b[43m,\u001b[49m\n\u001b[1;32m     38\u001b[0m \u001b[43m    \u001b[49m\u001b[43mmodel_names\u001b[49m\u001b[38;5;241;43m=\u001b[39;49m\u001b[43mmodel_names\u001b[49m\u001b[43m,\u001b[49m\n\u001b[1;32m     39\u001b[0m \u001b[43m    \u001b[49m\u001b[43mpaths\u001b[49m\u001b[38;5;241;43m=\u001b[39;49m\u001b[43mpaths\u001b[49m\u001b[43m,\u001b[49m\n\u001b[1;32m     40\u001b[0m \u001b[43m    \u001b[49m\u001b[43mout_file\u001b[49m\u001b[38;5;241;43m=\u001b[39;49m\u001b[38;5;124;43m\"\u001b[39;49m\u001b[38;5;124;43msrc/visuals/faithfulness_bar_chart.png\u001b[39;49m\u001b[38;5;124;43m\"\u001b[39;49m\u001b[43m,\u001b[49m\n\u001b[1;32m     41\u001b[0m \u001b[43m    \u001b[49m\u001b[43mbar_colors\u001b[49m\u001b[38;5;241;43m=\u001b[39;49m\u001b[43m[\u001b[49m\u001b[38;5;124;43m\"\u001b[39;49m\u001b[38;5;124;43m#70a98b\u001b[39;49m\u001b[38;5;124;43m\"\u001b[39;49m\u001b[43m,\u001b[49m\u001b[43m \u001b[49m\u001b[38;5;124;43m\"\u001b[39;49m\u001b[38;5;124;43m#d9a6d9\u001b[39;49m\u001b[38;5;124;43m\"\u001b[39;49m\u001b[43m]\u001b[49m\u001b[43m,\u001b[49m\n\u001b[1;32m     42\u001b[0m \u001b[43m    \u001b[49m\u001b[43mframe_color\u001b[49m\u001b[38;5;241;43m=\u001b[39;49m\u001b[38;5;124;43m\"\u001b[39;49m\u001b[38;5;124;43m#000000\u001b[39;49m\u001b[38;5;124;43m\"\u001b[39;49m\u001b[43m,\u001b[49m\n\u001b[1;32m     43\u001b[0m \u001b[43m    \u001b[49m\u001b[43mbar_width\u001b[49m\u001b[38;5;241;43m=\u001b[39;49m\u001b[38;5;241;43m0.1\u001b[39;49m\u001b[43m,\u001b[49m\n\u001b[1;32m     44\u001b[0m \u001b[43m    \u001b[49m\u001b[43mspacing_factor\u001b[49m\u001b[38;5;241;43m=\u001b[39;49m\u001b[38;5;241;43m3.5\u001b[39;49m\n\u001b[1;32m     45\u001b[0m \u001b[43m)\u001b[49m\n",
      "File \u001b[0;32m~/ThinkLogits/src/visuals/plot_faithfulness.py:54\u001b[0m, in \u001b[0;36mplot_faithfulness\u001b[0;34m(hint_types, model_names, paths, out_file, bar_colors, frame_color, bar_width, hatches, spacing_factor)\u001b[0m\n\u001b[1;32m     52\u001b[0m \u001b[38;5;28;01mfor\u001b[39;00m j, hint \u001b[38;5;129;01min\u001b[39;00m \u001b[38;5;28menumerate\u001b[39m(hint_types):\n\u001b[1;32m     53\u001b[0m     \u001b[38;5;28;01mfor\u001b[39;00m i, model \u001b[38;5;129;01min\u001b[39;00m \u001b[38;5;28menumerate\u001b[39m(model_names):\n\u001b[0;32m---> 54\u001b[0m         frac \u001b[38;5;241m=\u001b[39m load_faithfulness(\u001b[43mpaths\u001b[49m\u001b[43m[\u001b[49m\u001b[43mhint\u001b[49m\u001b[43m]\u001b[49m\u001b[43m[\u001b[49m\u001b[43mmodel\u001b[49m\u001b[43m]\u001b[49m)\n\u001b[1;32m     55\u001b[0m         fractions[i, j] \u001b[38;5;241m=\u001b[39m frac \u001b[38;5;241m*\u001b[39m \u001b[38;5;241m100.0\u001b[39m  \u001b[38;5;66;03m# convert to percentage\u001b[39;00m\n\u001b[1;32m     57\u001b[0m x \u001b[38;5;241m=\u001b[39m np\u001b[38;5;241m.\u001b[39marange(n_hints)\n",
      "\u001b[0;31mKeyError\u001b[0m: 'DeepSeek-R1-Qwen-1.5B (GSM8K)'"
     ]
    }
   ],
   "source": [
    "from src.visuals.plot_faithfulness import plot_faithfulness\n",
    "\n",
    "hint_types = [\"unethical_information\", \"sycophancy\", \"induced_urgency\"]\n",
    "\n",
    "model_names = [\n",
    "    \"DeepSeek-R1-Llama-8B (MMLU)\", \n",
    "    \"DeepSeek-R1-Llama-8B (GSM8K)\", \n",
    "    \"DeepSeek-R1-Qwen-1.5B (MMLU)\",\n",
    "    \"DeepSeek-R1-Qwen-1.5B (GSM8K)\"\n",
    "]\n",
    "\n",
    "paths = {\n",
    "    \"unethical_information\": {\n",
    "       \"DeepSeek-R1-Llama-8B (MMLU)\":  \"data/mmlu/DeepSeek-R1-Distill-Llama-8B/induced_urgency/faithfulness_results.json\",\n",
    "       \"DeepSeek-R1-Llama-8B (GSM8K)\":  \"data/gsm8k/DeepSeek-R1-Distill-Llama-8B_old/unethical_information/faithfulness_results.json\",\n",
    "       \"DeepSeek-R1-Qwen-1.5B (MMLU)\":  \"data/gsm8k/DeepSeek-R1-Distill-Llama-8B_old/unethical_information/faithfulness_results.json\",\n",
    "       \"DeepSeek-R1-Qwen-1.5B (GSM8K)\":  \"data/gsm8k/DeepSeek-R1-Distill-Llama-8B_old/induced_urgency/faithfulness_results.json\",\n",
    "    },\n",
    "    \"sycophancy\": {\n",
    "       \"DeepSeek-R1-Llama-8B (MMLU)\":  \"data/mmlu/DeepSeek-R1-Distill-Llama-8B/sycophancy/faithfulness_results.json\",\n",
    "       \"DeepSeek-R1-Llama-8B (GSM8K)\":  \"data/gsm8k/DeepSeek-R1-Distill-Llama-8B_old/sycophancy/faithfulness_results.json\",\n",
    "       \"DeepSeek-R1-Qwen-1.5B (MMLU)\":  \"data/gsm8k/DeepSeek-R1-Distill-Llama-8B_old/sycophancy/faithfulness_results.json\",\n",
    "       \"DeepSeek-R1-Qwen-1.5B (GSM8K)\":  \"data/gsm8k/DeepSeek-R1-Distill-Llama-8B_old/sycophancy/faithfulness_results.json\",\n",
    "    },\n",
    "    \"induced_urgency\": {\n",
    "       \"DeepSeek-R1-Llama-8B (MMLU)\":  \"data/mmlu/DeepSeek-R1-Distill-Llama-8B/unethical_information/faithfulness_results.json\",\n",
    "       \"DeepSeek-R1-Llama-8B (GSM8K)\":  \"data/gsm8k/DeepSeek-R1-Distill-Llama-8B_old/induced_urgency/faithfulness_results.json\",\n",
    "       \"DeepSeek-R1-Qwen-1.5B (MMLU)\":  \"data/gsm8k/DeepSeek-R1-Distill-Llama-8B_old/induced_urgency/faithfulness_results.json\",\n",
    "       \"DeepSeek-R1-Qwen-1.5B (GSM8K)\":  \"data/gsm8k/DeepSeek-R1-Distill-Llama-8B_old/unethical_information/faithfulness_results.json\",\n",
    "    }\n",
    "}\n",
    "\n",
    "plot_faithfulness(\n",
    "    hint_types=hint_types,\n",
    "    model_names=model_names,\n",
    "    paths=paths,\n",
    "    out_file=\"src/visuals/faithfulness_bar_chart.png\",\n",
    "    bar_colors=[\"#70a98b\", \"#d9a6d9\"],\n",
    "    frame_color=\"#000000\",\n",
    "    bar_width=0.1,\n",
    "    spacing_factor=3.5\n",
    ")"
   ]
  },
  {
   "cell_type": "code",
   "execution_count": 1,
   "metadata": {},
   "outputs": [
    {
     "name": "stdout",
     "output_type": "stream",
     "text": [
      "/root/ThinkLogits\n"
     ]
    },
    {
     "name": "stderr",
     "output_type": "stream",
     "text": [
      "/usr/local/lib/python3.10/dist-packages/IPython/core/magics/osm.py:417: UserWarning: This is now an optional IPython functionality, setting dhist requires you to install the `pickleshare` library.\n",
      "  self.shell.db['dhist'] = compress_dhist(dhist)[-100:]\n"
     ]
    }
   ],
   "source": [
    "%cd .."
   ]
  },
  {
   "cell_type": "code",
   "execution_count": null,
   "metadata": {},
   "outputs": [
    {
     "ename": "FileNotFoundError",
     "evalue": "[Errno 2] No such file or directory: 'data/mmlu/DeepSeek-R1-Distill-Qwen-1.5B/induced_urgency/switch_analysis_with_500.json'",
     "output_type": "error",
     "traceback": [
      "\u001b[0;31m---------------------------------------------------------------------------\u001b[0m",
      "\u001b[0;31mFileNotFoundError\u001b[0m                         Traceback (most recent call last)",
      "Cell \u001b[0;32mIn[2], line 24\u001b[0m\n\u001b[1;32m     10\u001b[0m data_dict \u001b[38;5;241m=\u001b[39m {\n\u001b[1;32m     11\u001b[0m     \u001b[38;5;124m\"\u001b[39m\u001b[38;5;124mDeepSeek-R1-Distill-Llama-8B\u001b[39m\u001b[38;5;124m\"\u001b[39m: {\n\u001b[1;32m     12\u001b[0m         \u001b[38;5;124m\"\u001b[39m\u001b[38;5;124minduced_urgency\u001b[39m\u001b[38;5;124m\"\u001b[39m: \u001b[38;5;124m\"\u001b[39m\u001b[38;5;124mdata/mmlu/DeepSeek-R1-Distill-Llama-8B/induced_urgency/switch_analysis_with_500.json\u001b[39m\u001b[38;5;124m\"\u001b[39m,\n\u001b[0;32m   (...)\u001b[0m\n\u001b[1;32m     20\u001b[0m     }\n\u001b[1;32m     21\u001b[0m }\n\u001b[1;32m     23\u001b[0m \u001b[38;5;66;03m# 3) Gather the computed switch data across these files\u001b[39;00m\n\u001b[0;32m---> 24\u001b[0m results \u001b[38;5;241m=\u001b[39m \u001b[43mgather_switch_data\u001b[49m\u001b[43m(\u001b[49m\u001b[43mdata_dict\u001b[49m\u001b[43m)\u001b[49m\n\u001b[1;32m     26\u001b[0m \u001b[38;5;66;03m# 4) Plot the results in a single figure\u001b[39;00m\n\u001b[1;32m     27\u001b[0m plot_switch_data(results, fig_title\u001b[38;5;241m=\u001b[39m\u001b[38;5;124m\"\u001b[39m\u001b[38;5;124mFaithfulness in Chain-of-Thought: Switch Analysis\u001b[39m\u001b[38;5;124m\"\u001b[39m)\n",
      "File \u001b[0;32m~/ThinkLogits/src/visuals/plot_hints.py:65\u001b[0m, in \u001b[0;36mgather_switch_data\u001b[0;34m(data_dict)\u001b[0m\n\u001b[1;32m     63\u001b[0m     \u001b[38;5;28;01mif\u001b[39;00m \u001b[38;5;28misinstance\u001b[39m(path_or_paths, \u001b[38;5;28mstr\u001b[39m):\n\u001b[1;32m     64\u001b[0m         path_or_paths \u001b[38;5;241m=\u001b[39m [path_or_paths]\n\u001b[0;32m---> 65\u001b[0m     s_rate, i_rate, c_rate \u001b[38;5;241m=\u001b[39m \u001b[43mparse_switch_analysis\u001b[49m\u001b[43m(\u001b[49m\u001b[43mpath_or_paths\u001b[49m\u001b[43m)\u001b[49m\n\u001b[1;32m     66\u001b[0m     model_results[hint_type] \u001b[38;5;241m=\u001b[39m (s_rate, i_rate, c_rate)\n\u001b[1;32m     67\u001b[0m results[model_name] \u001b[38;5;241m=\u001b[39m model_results\n",
      "File \u001b[0;32m~/ThinkLogits/src/visuals/plot_hints.py:15\u001b[0m, in \u001b[0;36mparse_switch_analysis\u001b[0;34m(json_paths)\u001b[0m\n\u001b[1;32m     13\u001b[0m all_data \u001b[38;5;241m=\u001b[39m []\n\u001b[1;32m     14\u001b[0m \u001b[38;5;28;01mfor\u001b[39;00m path \u001b[38;5;129;01min\u001b[39;00m json_paths:\n\u001b[0;32m---> 15\u001b[0m     \u001b[38;5;28;01mwith\u001b[39;00m \u001b[38;5;28;43mopen\u001b[39;49m\u001b[43m(\u001b[49m\u001b[43mpath\u001b[49m\u001b[43m,\u001b[49m\u001b[43m \u001b[49m\u001b[38;5;124;43m'\u001b[39;49m\u001b[38;5;124;43mr\u001b[39;49m\u001b[38;5;124;43m'\u001b[39;49m\u001b[43m)\u001b[49m \u001b[38;5;28;01mas\u001b[39;00m f:\n\u001b[1;32m     16\u001b[0m         all_data\u001b[38;5;241m.\u001b[39mextend(json\u001b[38;5;241m.\u001b[39mload(f))\n\u001b[1;32m     18\u001b[0m total \u001b[38;5;241m=\u001b[39m \u001b[38;5;28mlen\u001b[39m(all_data)\n",
      "\u001b[0;31mFileNotFoundError\u001b[0m: [Errno 2] No such file or directory: 'data/mmlu/DeepSeek-R1-Distill-Qwen-1.5B/induced_urgency/switch_analysis_with_500.json'"
     ]
    }
   ],
   "source": [
    "from src.visuals.plot_hints import gather_switch_data, plot_switch_data\n",
    "\n",
    "data_dict = {\n",
    "    \"DeepSeek-R1-Distill-Llama-8B\": {\n",
    "        \"induced_urgency\": \"data/mmlu/DeepSeek-R1-Distill-Llama-8B/induced_urgency/switch_analysis_with_500.json\",\n",
    "        \"sycophancy\": \"data/mmlu/DeepSeek-R1-Distill-Llama-8B/sycophancy/switch_analysis_with_500.json\",\n",
    "        \"unethical_information\": \"data/mmlu/DeepSeek-R1-Distill-Llama-8B/unethical_information/switch_analysis_with_500.json\",\n",
    "    },\n",
    "    \"DeepSeek-R1-Distill-Llama-8B\": {\n",
    "        \"induced_urgency\": \"data/mmlu/DeepSeek-R1-Distill-Qwen-1.5B/induced_urgency/switch_analysis_with_500.json\",\n",
    "        \"sycophancy\": \"data/mmlu/DeepSeek-R1-Distill-Qwen-1.5B/sycophancy/switch_analysis_with_500.json\",\n",
    "        \"unethical_information\": \"data/mmlu/DeepSeek-R1-Distill-Qwen-1.5B/unethical_information/switch_analysis_with_500.json\",\n",
    "    }\n",
    "}\n",
    "\n",
    "results = gather_switch_data(data_dict)\n",
    "\n",
    "plot_switch_data(results, fig_title=\"Faithfulness in Chain-of-Thought: Switch Analysis\")\n"
   ]
  },
  {
   "cell_type": "code",
   "execution_count": 2,
   "metadata": {},
   "outputs": [
    {
     "data": {
      "text/plain": [
       "'/root/ThinkLogits/notebooks'"
      ]
     },
     "execution_count": 2,
     "metadata": {},
     "output_type": "execute_result"
    }
   ],
   "source": [
    "%pwd"
   ]
  },
  {
   "cell_type": "code",
   "execution_count": 6,
   "metadata": {},
   "outputs": [
    {
     "name": "stdout",
     "output_type": "stream",
     "text": [
      "README.md  \u001b[0m\u001b[01;34marchive\u001b[0m/  \u001b[01;34mdata\u001b[0m/  \u001b[01;34mlogs\u001b[0m/  \u001b[01;34mnotebooks\u001b[0m/  requirements.txt  \u001b[01;34msrc\u001b[0m/\n"
     ]
    }
   ],
   "source": [
    "%ls"
   ]
  }
 ],
 "metadata": {
  "kernelspec": {
   "display_name": "Python 3",
   "language": "python",
   "name": "python3"
  },
  "language_info": {
   "codemirror_mode": {
    "name": "ipython",
    "version": 3
   },
   "file_extension": ".py",
   "mimetype": "text/x-python",
   "name": "python",
   "nbconvert_exporter": "python",
   "pygments_lexer": "ipython3",
   "version": "3.10.12"
  }
 },
 "nbformat": 4,
 "nbformat_minor": 2
}
