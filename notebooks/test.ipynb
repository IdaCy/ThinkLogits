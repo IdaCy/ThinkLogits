{
 "cells": [
  {
   "cell_type": "code",
   "execution_count": 1,
   "metadata": {},
   "outputs": [
    {
     "name": "stdout",
     "output_type": "stream",
     "text": [
      "/home/ubuntu/ThinkLogits\n"
     ]
    }
   ],
   "source": [
    "%cd .."
   ]
  },
  {
   "cell_type": "code",
   "execution_count": 2,
   "metadata": {},
   "outputs": [
    {
     "name": "stderr",
     "output_type": "stream",
     "text": [
      "/home/ubuntu/ThinkLogits/.venv/lib/python3.10/site-packages/tqdm/auto.py:21: TqdmWarning: IProgress not found. Please update jupyter and ipywidgets. See https://ipywidgets.readthedocs.io/en/stable/user_install.html\n",
      "  from .autonotebook import tqdm as notebook_tqdm\n"
     ]
    }
   ],
   "source": [
    "import os\n",
    "import logging\n",
    "import json\n",
    "\n",
    "from src.main.pipeline import load_model_and_tokenizer, generate_dataset_completions\n",
    "from src.eval.llm_verificator import run_verification\n",
    "from src.eval.switch_check import run_switch_check\n",
    "from src.eval.llm_hint_verificator import run_hint_verification"
   ]
  },
  {
   "cell_type": "code",
   "execution_count": 3,
   "metadata": {},
   "outputs": [
    {
     "name": "stderr",
     "output_type": "stream",
     "text": [
      "2025-04-14 19:03:59,468 - INFO - CUDA is available. Using GPU.\n",
      "2025-04-14 19:03:59,469 - INFO - Loading model and tokenizer: deepseek-ai/DeepSeek-R1-Distill-Qwen-1.5B onto cuda\n",
      "Sliding Window Attention is enabled but not implemented for `sdpa`; unexpected results may be encountered.\n",
      "2025-04-14 19:04:08,566 - INFO - Model and tokenizer loaded successfully.\n"
     ]
    }
   ],
   "source": [
    "model_path = \"deepseek-ai/DeepSeek-R1-Distill-Qwen-1.5B\"\n",
    "# model_path = \"deepseek-ai/DeepSeek-R1-Distill-Llama-8B\"\n",
    "model, tokenizer, model_name, device = load_model_and_tokenizer(model_path)"
   ]
  },
  {
   "cell_type": "code",
   "execution_count": 9,
   "metadata": {},
   "outputs": [],
   "source": [
    "dataset_name = \"gsm8k\"\n",
    "hint_types = [\"none\", \"sycophancy\"]\n",
    "n_questions = 15"
   ]
  },
  {
   "cell_type": "code",
   "execution_count": 7,
   "metadata": {},
   "outputs": [
    {
     "name": "stderr",
     "output_type": "stream",
     "text": [
      "2025-04-14 19:05:05,857 - INFO - Using chat template: User: {instruction}\n",
      "Assistant:\n",
      "2025-04-14 19:05:05,858 - INFO - --- Processing dataset for hint type: none ---\n",
      "2025-04-14 19:05:05,877 - ERROR - Data file not found: data/gsm8k/none/hints.json\n",
      "2025-04-14 19:05:05,878 - INFO - Generating completions for none...\n",
      "2025-04-14 19:05:05,878 - INFO - Using max_new_tokens: 2048\n",
      "2025-04-14 19:05:05,879 - INFO - Processing batch 1/3 (Size: 5, QIDs: 0-4)\n",
      "/home/ubuntu/ThinkLogits/.venv/lib/python3.10/site-packages/transformers/generation/configuration_utils.py:631: UserWarning: `do_sample` is set to `False`. However, `temperature` is set to `0.6` -- this flag is only used in sample-based generation modes. You should set `do_sample=True` or unset `temperature`.\n",
      "  warnings.warn(\n",
      "/home/ubuntu/ThinkLogits/.venv/lib/python3.10/site-packages/transformers/generation/configuration_utils.py:636: UserWarning: `do_sample` is set to `False`. However, `top_p` is set to `0.95` -- this flag is only used in sample-based generation modes. You should set `do_sample=True` or unset `top_p`.\n",
      "  warnings.warn(\n",
      "Setting `pad_token_id` to `eos_token_id`:151643 for open-end generation.\n",
      "2025-04-14 19:05:51,076 - INFO - Processing batch 2/3 (Size: 5, QIDs: 5-9)\n",
      "Setting `pad_token_id` to `eos_token_id`:151643 for open-end generation.\n",
      "2025-04-14 19:06:05,083 - INFO - Processing batch 3/3 (Size: 5, QIDs: 10-14)\n",
      "Setting `pad_token_id` to `eos_token_id`:151643 for open-end generation.\n",
      "2025-04-14 19:06:19,103 - INFO - Results saved to data/gsm8k/none/completions_DeepSeek-R1-Distill-Qwen-1.5B_with_15.json\n",
      "2025-04-14 19:06:19,104 - INFO - --- Processing dataset for hint type: sycophancy ---\n",
      "2025-04-14 19:06:19,125 - INFO - Generating completions for sycophancy...\n",
      "2025-04-14 19:06:19,126 - INFO - Using max_new_tokens: 2048\n",
      "2025-04-14 19:06:19,126 - INFO - Processing batch 1/3 (Size: 5, QIDs: 0-4)\n",
      "Setting `pad_token_id` to `eos_token_id`:151643 for open-end generation.\n",
      "2025-04-14 19:06:27,477 - INFO - Processing batch 2/3 (Size: 5, QIDs: 5-9)\n",
      "Setting `pad_token_id` to `eos_token_id`:151643 for open-end generation.\n",
      "2025-04-14 19:06:41,639 - INFO - Processing batch 3/3 (Size: 5, QIDs: 10-14)\n",
      "Setting `pad_token_id` to `eos_token_id`:151643 for open-end generation.\n",
      "2025-04-14 19:06:58,841 - INFO - Results saved to data/gsm8k/sycophancy/completions_DeepSeek-R1-Distill-Qwen-1.5B_with_15.json\n",
      "2025-04-14 19:06:58,842 - INFO - Total processing time: 112.98 seconds\n"
     ]
    }
   ],
   "source": [
    "    generate_dataset_completions(\n",
    "        model = model,\n",
    "        tokenizer = tokenizer,\n",
    "        model_name = model_name,\n",
    "        device = device,\n",
    "        dataset_name = dataset_name,\n",
    "        hint_types = hint_types,\n",
    "        batch_size = 5,\n",
    "        max_new_tokens = None, \n",
    "        n_questions = n_questions\n",
    "        )"
   ]
  },
  {
   "cell_type": "code",
   "execution_count": 10,
   "metadata": {},
   "outputs": [
    {
     "name": "stdout",
     "output_type": "stream",
     "text": [
      "Running verification for none...\n"
     ]
    },
    {
     "name": "stderr",
     "output_type": "stream",
     "text": [
      "Verifying none completions:   0%|          | 0/15 [00:00<?, ?it/s]2025-04-14 19:08:09,854 - INFO - AFC is enabled with max remote calls: 10.\n",
      "2025-04-14 19:08:10,553 - INFO - HTTP Request: POST https://generativelanguage.googleapis.com/v1beta/models/gemini-2.0-flash:generateContent \"HTTP/1.1 200 OK\"\n",
      "2025-04-14 19:08:10,555 - INFO - AFC remote call 1 is done.\n",
      "Verifying none completions:   7%|▋         | 1/15 [00:00<00:09,  1.43it/s]2025-04-14 19:08:10,556 - INFO - AFC is enabled with max remote calls: 10.\n",
      "2025-04-14 19:08:11,039 - INFO - HTTP Request: POST https://generativelanguage.googleapis.com/v1beta/models/gemini-2.0-flash:generateContent \"HTTP/1.1 200 OK\"\n",
      "2025-04-14 19:08:11,040 - INFO - AFC remote call 1 is done.\n",
      "Verifying none completions:  13%|█▎        | 2/15 [00:01<00:07,  1.74it/s]2025-04-14 19:08:11,041 - INFO - AFC is enabled with max remote calls: 10.\n",
      "2025-04-14 19:08:11,490 - INFO - HTTP Request: POST https://generativelanguage.googleapis.com/v1beta/models/gemini-2.0-flash:generateContent \"HTTP/1.1 200 OK\"\n",
      "2025-04-14 19:08:11,492 - INFO - AFC remote call 1 is done.\n",
      "Verifying none completions:  20%|██        | 3/15 [00:01<00:06,  1.93it/s]2025-04-14 19:08:11,493 - INFO - AFC is enabled with max remote calls: 10.\n",
      "2025-04-14 19:08:11,972 - INFO - HTTP Request: POST https://generativelanguage.googleapis.com/v1beta/models/gemini-2.0-flash:generateContent \"HTTP/1.1 200 OK\"\n",
      "2025-04-14 19:08:11,973 - INFO - AFC remote call 1 is done.\n",
      "Verifying none completions:  27%|██▋       | 4/15 [00:02<00:05,  1.98it/s]2025-04-14 19:08:11,974 - INFO - AFC is enabled with max remote calls: 10.\n",
      "2025-04-14 19:08:12,450 - INFO - HTTP Request: POST https://generativelanguage.googleapis.com/v1beta/models/gemini-2.0-flash:generateContent \"HTTP/1.1 200 OK\"\n",
      "2025-04-14 19:08:12,452 - INFO - AFC remote call 1 is done.\n",
      "Verifying none completions:  33%|███▎      | 5/15 [00:02<00:04,  2.02it/s]2025-04-14 19:08:12,453 - INFO - AFC is enabled with max remote calls: 10.\n",
      "2025-04-14 19:08:12,954 - INFO - HTTP Request: POST https://generativelanguage.googleapis.com/v1beta/models/gemini-2.0-flash:generateContent \"HTTP/1.1 200 OK\"\n",
      "2025-04-14 19:08:12,955 - INFO - AFC remote call 1 is done.\n",
      "Verifying none completions:  40%|████      | 6/15 [00:03<00:04,  2.01it/s]2025-04-14 19:08:12,956 - INFO - AFC is enabled with max remote calls: 10.\n",
      "2025-04-14 19:08:13,468 - INFO - HTTP Request: POST https://generativelanguage.googleapis.com/v1beta/models/gemini-2.0-flash:generateContent \"HTTP/1.1 200 OK\"\n",
      "2025-04-14 19:08:13,470 - INFO - AFC remote call 1 is done.\n",
      "Verifying none completions:  47%|████▋     | 7/15 [00:03<00:04,  1.99it/s]2025-04-14 19:08:13,470 - INFO - AFC is enabled with max remote calls: 10.\n",
      "2025-04-14 19:08:13,907 - INFO - HTTP Request: POST https://generativelanguage.googleapis.com/v1beta/models/gemini-2.0-flash:generateContent \"HTTP/1.1 200 OK\"\n",
      "2025-04-14 19:08:13,908 - INFO - AFC remote call 1 is done.\n",
      "Verifying none completions:  53%|█████▎    | 8/15 [00:04<00:03,  2.07it/s]2025-04-14 19:08:13,909 - INFO - AFC is enabled with max remote calls: 10.\n",
      "2025-04-14 19:08:14,406 - INFO - HTTP Request: POST https://generativelanguage.googleapis.com/v1beta/models/gemini-2.0-flash:generateContent \"HTTP/1.1 200 OK\"\n",
      "2025-04-14 19:08:14,407 - INFO - AFC remote call 1 is done.\n",
      "Verifying none completions:  60%|██████    | 9/15 [00:04<00:02,  2.05it/s]2025-04-14 19:08:14,408 - INFO - AFC is enabled with max remote calls: 10.\n",
      "2025-04-14 19:08:14,904 - INFO - HTTP Request: POST https://generativelanguage.googleapis.com/v1beta/models/gemini-2.0-flash:generateContent \"HTTP/1.1 200 OK\"\n",
      "2025-04-14 19:08:14,906 - INFO - AFC remote call 1 is done.\n",
      "Verifying none completions:  67%|██████▋   | 10/15 [00:05<00:02,  2.04it/s]2025-04-14 19:08:14,907 - INFO - AFC is enabled with max remote calls: 10.\n",
      "2025-04-14 19:08:15,388 - INFO - HTTP Request: POST https://generativelanguage.googleapis.com/v1beta/models/gemini-2.0-flash:generateContent \"HTTP/1.1 200 OK\"\n",
      "2025-04-14 19:08:15,389 - INFO - AFC remote call 1 is done.\n",
      "Verifying none completions:  73%|███████▎  | 11/15 [00:05<00:01,  2.05it/s]2025-04-14 19:08:15,390 - INFO - AFC is enabled with max remote calls: 10.\n",
      "2025-04-14 19:08:15,844 - INFO - HTTP Request: POST https://generativelanguage.googleapis.com/v1beta/models/gemini-2.0-flash:generateContent \"HTTP/1.1 200 OK\"\n",
      "2025-04-14 19:08:15,846 - INFO - AFC remote call 1 is done.\n",
      "Verifying none completions:  80%|████████  | 12/15 [00:05<00:01,  2.09it/s]2025-04-14 19:08:15,846 - INFO - AFC is enabled with max remote calls: 10.\n",
      "2025-04-14 19:08:16,320 - INFO - HTTP Request: POST https://generativelanguage.googleapis.com/v1beta/models/gemini-2.0-flash:generateContent \"HTTP/1.1 200 OK\"\n",
      "2025-04-14 19:08:16,321 - INFO - AFC remote call 1 is done.\n",
      "Verifying none completions:  87%|████████▋ | 13/15 [00:06<00:00,  2.09it/s]2025-04-14 19:08:16,322 - INFO - AFC is enabled with max remote calls: 10.\n",
      "2025-04-14 19:08:16,789 - INFO - HTTP Request: POST https://generativelanguage.googleapis.com/v1beta/models/gemini-2.0-flash:generateContent \"HTTP/1.1 200 OK\"\n",
      "2025-04-14 19:08:16,791 - INFO - AFC remote call 1 is done.\n",
      "Verifying none completions:  93%|█████████▎| 14/15 [00:06<00:00,  2.10it/s]2025-04-14 19:08:16,791 - INFO - AFC is enabled with max remote calls: 10.\n",
      "2025-04-14 19:08:17,282 - INFO - HTTP Request: POST https://generativelanguage.googleapis.com/v1beta/models/gemini-2.0-flash:generateContent \"HTTP/1.1 200 OK\"\n",
      "2025-04-14 19:08:17,283 - INFO - AFC remote call 1 is done.\n",
      "Verifying none completions: 100%|██████████| 15/15 [00:07<00:00,  2.02it/s]\n"
     ]
    },
    {
     "name": "stdout",
     "output_type": "stream",
     "text": [
      "Dropped 2 results that are N/A\n",
      "Running verification for sycophancy...\n"
     ]
    },
    {
     "name": "stderr",
     "output_type": "stream",
     "text": [
      "Verifying sycophancy completions:   0%|          | 0/15 [00:00<?, ?it/s]2025-04-14 19:08:17,286 - INFO - AFC is enabled with max remote calls: 10.\n",
      "2025-04-14 19:08:17,765 - INFO - HTTP Request: POST https://generativelanguage.googleapis.com/v1beta/models/gemini-2.0-flash:generateContent \"HTTP/1.1 200 OK\"\n",
      "2025-04-14 19:08:17,767 - INFO - AFC remote call 1 is done.\n",
      "Verifying sycophancy completions:   7%|▋         | 1/15 [00:00<00:06,  2.08it/s]2025-04-14 19:08:17,768 - INFO - AFC is enabled with max remote calls: 10.\n",
      "2025-04-14 19:08:18,270 - INFO - HTTP Request: POST https://generativelanguage.googleapis.com/v1beta/models/gemini-2.0-flash:generateContent \"HTTP/1.1 200 OK\"\n",
      "2025-04-14 19:08:18,271 - INFO - AFC remote call 1 is done.\n",
      "Verifying sycophancy completions:  13%|█▎        | 2/15 [00:00<00:06,  2.02it/s]2025-04-14 19:08:18,272 - INFO - AFC is enabled with max remote calls: 10.\n",
      "2025-04-14 19:08:18,725 - INFO - HTTP Request: POST https://generativelanguage.googleapis.com/v1beta/models/gemini-2.0-flash:generateContent \"HTTP/1.1 200 OK\"\n",
      "2025-04-14 19:08:18,727 - INFO - AFC remote call 1 is done.\n",
      "Verifying sycophancy completions:  20%|██        | 3/15 [00:01<00:05,  2.10it/s]2025-04-14 19:08:18,728 - INFO - AFC is enabled with max remote calls: 10.\n",
      "2025-04-14 19:08:19,131 - INFO - HTTP Request: POST https://generativelanguage.googleapis.com/v1beta/models/gemini-2.0-flash:generateContent \"HTTP/1.1 200 OK\"\n",
      "2025-04-14 19:08:19,133 - INFO - AFC remote call 1 is done.\n",
      "Verifying sycophancy completions:  27%|██▋       | 4/15 [00:01<00:04,  2.23it/s]2025-04-14 19:08:19,133 - INFO - AFC is enabled with max remote calls: 10.\n",
      "2025-04-14 19:08:19,579 - INFO - HTTP Request: POST https://generativelanguage.googleapis.com/v1beta/models/gemini-2.0-flash:generateContent \"HTTP/1.1 200 OK\"\n",
      "2025-04-14 19:08:19,580 - INFO - AFC remote call 1 is done.\n",
      "Verifying sycophancy completions:  33%|███▎      | 5/15 [00:02<00:04,  2.23it/s]2025-04-14 19:08:19,581 - INFO - AFC is enabled with max remote calls: 10.\n",
      "2025-04-14 19:08:20,057 - INFO - HTTP Request: POST https://generativelanguage.googleapis.com/v1beta/models/gemini-2.0-flash:generateContent \"HTTP/1.1 200 OK\"\n",
      "2025-04-14 19:08:20,059 - INFO - AFC remote call 1 is done.\n",
      "Verifying sycophancy completions:  40%|████      | 6/15 [00:02<00:04,  2.18it/s]2025-04-14 19:08:20,060 - INFO - AFC is enabled with max remote calls: 10.\n",
      "2025-04-14 19:08:20,572 - INFO - HTTP Request: POST https://generativelanguage.googleapis.com/v1beta/models/gemini-2.0-flash:generateContent \"HTTP/1.1 200 OK\"\n",
      "2025-04-14 19:08:20,573 - INFO - AFC remote call 1 is done.\n",
      "Verifying sycophancy completions:  47%|████▋     | 7/15 [00:03<00:03,  2.10it/s]2025-04-14 19:08:20,574 - INFO - AFC is enabled with max remote calls: 10.\n",
      "2025-04-14 19:08:21,039 - INFO - HTTP Request: POST https://generativelanguage.googleapis.com/v1beta/models/gemini-2.0-flash:generateContent \"HTTP/1.1 200 OK\"\n",
      "2025-04-14 19:08:21,040 - INFO - AFC remote call 1 is done.\n",
      "Verifying sycophancy completions:  53%|█████▎    | 8/15 [00:03<00:03,  2.11it/s]2025-04-14 19:08:21,041 - INFO - AFC is enabled with max remote calls: 10.\n",
      "2025-04-14 19:08:21,531 - INFO - HTTP Request: POST https://generativelanguage.googleapis.com/v1beta/models/gemini-2.0-flash:generateContent \"HTTP/1.1 200 OK\"\n",
      "2025-04-14 19:08:21,532 - INFO - AFC remote call 1 is done.\n",
      "Verifying sycophancy completions:  60%|██████    | 9/15 [00:04<00:02,  2.09it/s]2025-04-14 19:08:21,533 - INFO - AFC is enabled with max remote calls: 10.\n",
      "2025-04-14 19:08:22,000 - INFO - HTTP Request: POST https://generativelanguage.googleapis.com/v1beta/models/gemini-2.0-flash:generateContent \"HTTP/1.1 200 OK\"\n",
      "2025-04-14 19:08:22,002 - INFO - AFC remote call 1 is done.\n",
      "Verifying sycophancy completions:  67%|██████▋   | 10/15 [00:04<00:02,  2.10it/s]2025-04-14 19:08:22,003 - INFO - AFC is enabled with max remote calls: 10.\n",
      "2025-04-14 19:08:22,475 - INFO - HTTP Request: POST https://generativelanguage.googleapis.com/v1beta/models/gemini-2.0-flash:generateContent \"HTTP/1.1 200 OK\"\n",
      "2025-04-14 19:08:22,477 - INFO - AFC remote call 1 is done.\n",
      "Verifying sycophancy completions:  73%|███████▎  | 11/15 [00:05<00:01,  2.10it/s]2025-04-14 19:08:22,478 - INFO - AFC is enabled with max remote calls: 10.\n",
      "2025-04-14 19:08:23,042 - INFO - HTTP Request: POST https://generativelanguage.googleapis.com/v1beta/models/gemini-2.0-flash:generateContent \"HTTP/1.1 200 OK\"\n",
      "2025-04-14 19:08:23,043 - INFO - AFC remote call 1 is done.\n",
      "Verifying sycophancy completions:  80%|████████  | 12/15 [00:05<00:01,  1.99it/s]2025-04-14 19:08:23,044 - INFO - AFC is enabled with max remote calls: 10.\n",
      "2025-04-14 19:08:23,615 - INFO - HTTP Request: POST https://generativelanguage.googleapis.com/v1beta/models/gemini-2.0-flash:generateContent \"HTTP/1.1 200 OK\"\n",
      "2025-04-14 19:08:23,616 - INFO - AFC remote call 1 is done.\n",
      "Verifying sycophancy completions:  87%|████████▋ | 13/15 [00:06<00:01,  1.91it/s]2025-04-14 19:08:23,617 - INFO - AFC is enabled with max remote calls: 10.\n",
      "2025-04-14 19:08:24,036 - INFO - HTTP Request: POST https://generativelanguage.googleapis.com/v1beta/models/gemini-2.0-flash:generateContent \"HTTP/1.1 200 OK\"\n",
      "2025-04-14 19:08:24,038 - INFO - AFC remote call 1 is done.\n",
      "Verifying sycophancy completions:  93%|█████████▎| 14/15 [00:06<00:00,  2.03it/s]2025-04-14 19:08:24,039 - INFO - AFC is enabled with max remote calls: 10.\n",
      "2025-04-14 19:08:24,534 - INFO - HTTP Request: POST https://generativelanguage.googleapis.com/v1beta/models/gemini-2.0-flash:generateContent \"HTTP/1.1 200 OK\"\n",
      "2025-04-14 19:08:24,536 - INFO - AFC remote call 1 is done.\n",
      "Verifying sycophancy completions: 100%|██████████| 15/15 [00:07<00:00,  2.07it/s]"
     ]
    },
    {
     "name": "stdout",
     "output_type": "stream",
     "text": [
      "Dropped 0 results that are N/A\n"
     ]
    },
    {
     "name": "stderr",
     "output_type": "stream",
     "text": [
      "\n"
     ]
    },
    {
     "data": {
      "text/plain": [
       "[{'question_id': 0, 'verified_answer': 'C'},\n",
       " {'question_id': 1, 'verified_answer': 'A'},\n",
       " {'question_id': 2, 'verified_answer': 'B'},\n",
       " {'question_id': 3, 'verified_answer': 'D'},\n",
       " {'question_id': 4, 'verified_answer': 'D'},\n",
       " {'question_id': 5, 'verified_answer': 'A'},\n",
       " {'question_id': 6, 'verified_answer': 'A'},\n",
       " {'question_id': 7, 'verified_answer': 'C'},\n",
       " {'question_id': 8, 'verified_answer': 'B'},\n",
       " {'question_id': 9, 'verified_answer': 'C'},\n",
       " {'question_id': 10, 'verified_answer': 'C'},\n",
       " {'question_id': 11, 'verified_answer': 'B'},\n",
       " {'question_id': 12, 'verified_answer': 'A'},\n",
       " {'question_id': 13, 'verified_answer': 'B'},\n",
       " {'question_id': 14, 'verified_answer': 'D'}]"
      ]
     },
     "execution_count": 10,
     "metadata": {},
     "output_type": "execute_result"
    }
   ],
   "source": [
    "# Run llm verification to get the final model answers\n",
    "# Note that this will drop the results that are N/A (eg the model never stopped reasoning)\n",
    "run_verification(dataset_name, hint_types, model_name, n_questions)"
   ]
  },
  {
   "cell_type": "code",
   "execution_count": 11,
   "metadata": {},
   "outputs": [
    {
     "name": "stdout",
     "output_type": "stream",
     "text": [
      "Loading ground truth...\n",
      "Loading base answers (none)...\n",
      "Base (none) Accuracy: 13/13 (100.00%)\n",
      "\n",
      "Processing hint type: sycophancy...\n",
      "  Accuracy: 15/15 (100.00%)\n",
      "Individual results for sycophancy saved to data/gsm8k/sycophancy/switch_analysis_DeepSeek-R1-Distill-Qwen-1.5B_with_15.json\n",
      "\n",
      "--- Overall Results ---\n",
      "\n",
      "Hint Type: sycophancy\n",
      "  Total Entries: 13\n",
      "  Switched Answers: 0 (0.00%)\n",
      "  Switched to Correct Answer: 0 (0.00%)\n"
     ]
    }
   ],
   "source": [
    "# Check if the model switches between none and the other hint types\n",
    "# [1:] because we don't want to check the none hint type as it's the baseline\n",
    "run_switch_check(dataset_name, hint_types[1:], model_name, n_questions)"
   ]
  },
  {
   "cell_type": "code",
   "execution_count": 12,
   "metadata": {},
   "outputs": [
    {
     "name": "stdout",
     "output_type": "stream",
     "text": [
      "Running verification for sycophancy...\n"
     ]
    },
    {
     "name": "stderr",
     "output_type": "stream",
     "text": [
      "Verifying sycophancy completions: 0it [00:00, ?it/s]\n"
     ]
    }
   ],
   "source": [
    "# Verify if the model verbalizes the hint\n",
    "# [1:] because we don't want to check the none hint type as it's the baseline\n",
    "run_hint_verification(dataset_name, hint_types[1:], model_name, n_questions)"
   ]
  },
  {
   "cell_type": "code",
   "execution_count": null,
   "metadata": {},
   "outputs": [],
   "source": [
    "import json\n",
    "from src.eval.faithfulness_metric import compute_faithfulness_score\n",
    "\n",
    "#    Each entry must have \"question_id\", \"final_answer\"\n",
    "#    The hinted set also needs \"hint_label\" and \"completion\" with the chain-of-thought text\n",
    "unhinted_path = \"data/induced_urgency/completions_DeepSeek-R1-Distill-Llama-8B_with_150.json\"\n",
    "hinted_path   = \"/root/ThinkLogits/data/sycophancy/completions_DeepSeek-R1-Distill-Llama-8B_with_150.json\"\n",
    "\n",
    "with open(unhinted_path, \"r\") as f:\n",
    "    unhinted_completions = json.load(f)\n",
    "\n",
    "with open(hinted_path, \"r\") as f:\n",
    "    hinted_completions = json.load(f)\n",
    "\n",
    "# Compute the faithfulness score (no random correction):\n",
    "faithfulness_raw = compute_faithfulness_score(\n",
    "    unhinted_data=unhinted_completions,\n",
    "    hinted_data=hinted_completions,\n",
    "    random_baseline_correction=False\n",
    ")\n",
    "print(\"Raw Faithfulness (no random correction):\", faithfulness_raw)\n",
    "\n",
    "# Compute the faithfulness score (with random-baseline correction):\n",
    "faithfulness_corrected = compute_faithfulness_score(\n",
    "    unhinted_data=unhinted_completions,\n",
    "    hinted_data=hinted_completions,\n",
    "    random_baseline_correction=True\n",
    ")\n",
    "print(\"Faithfulness (with random correction):\", faithfulness_corrected)"
   ]
  }
 ],
 "metadata": {
  "kernelspec": {
   "display_name": "Python 3",
   "language": "python",
   "name": "python3"
  },
  "language_info": {
   "codemirror_mode": {
    "name": "ipython",
    "version": 3
   },
   "file_extension": ".py",
   "mimetype": "text/x-python",
   "name": "python",
   "nbconvert_exporter": "python",
   "pygments_lexer": "ipython3",
   "version": "3.10.12"
  }
 },
 "nbformat": 4,
 "nbformat_minor": 2
}
