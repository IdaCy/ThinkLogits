{
 "cells": [
  {
   "cell_type": "code",
   "execution_count": null,
   "id": "aca5fc3e",
   "metadata": {},
   "outputs": [],
   "source": [
    "import os\n",
    "from typing import List\n",
    "from src.data_reader import load_data\n",
    "from src.prompt_constructor import build_prompt\n",
    "from src.model_runner import load_model_and_tokenizer, generate_with_token_probabilities\n",
    "from src.parse_answer import parse_answer"
   ]
  },
  {
   "cell_type": "code",
   "execution_count": null,
   "id": "62159872",
   "metadata": {},
   "outputs": [],
   "source": [
    "data_file = \"data/test_data.json\"\n",
    "model_name = \"Qwen/Qwen2.5-3B-Instruct\"\n",
    "output_file = \"output/results.json\""
   ]
  },
  {
   "cell_type": "code",
   "execution_count": null,
   "id": "e87ded88",
   "metadata": {},
   "outputs": [],
   "source": [
    "records = load_data(data_file)\n",
    "\n",
    "# Load model & tokenizer\n",
    "tokenizer, model = load_model_and_tokenizer(model_name)\n",
    "\n",
    "results = []\n",
    "for idx, record in enumerate(records):\n",
    "    task = record[\"task\"]\n",
    "    choices = {\n",
    "        \"A\": record[\"A\"],\n",
    "        \"B\": record[\"B\"],\n",
    "        \"C\": record[\"C\"],\n",
    "        \"D\": record[\"D\"]\n",
    "    }\n",
    "\n",
    "    hint_text = record.get(\"hint\", None)  # can be None if no hint\n",
    "\n",
    "    # Build the chat prompt\n",
    "    prompt = build_prompt(task, choices, hint_text)\n",
    "\n",
    "    # Run partial decoding\n",
    "    full_text, gen_tokens, token_probs = generate_with_token_probabilities(\n",
    "        model, tokenizer, prompt, max_new_tokens=150\n",
    "    )\n",
    "\n",
    "    # Extract the final answer (- look for the substring after \"So I'll finalize the answer as:\")\n",
    "    final_answer = parse_answer(full_text, marker=\"So I'll finalize the answer as: \")\n",
    "\n",
    "    # Store results\n",
    "    out_record = {\n",
    "        \"index\": idx,\n",
    "        \"task\": task,\n",
    "        \"choices\": choices,\n",
    "        \"hint_type\": record[\"hint_type\"],\n",
    "        \"hint_text\": hint_text,\n",
    "        \"prompt\": prompt,\n",
    "        \"chain_of_thought_tokens\": gen_tokens,\n",
    "        \"token_probabilities\": token_probs,\n",
    "        \"final_answer\": final_answer\n",
    "    }\n",
    "    results.append(out_record)\n",
    "\n",
    "# Write all results to a JSON file\n",
    "with open(output_file, \"w\", encoding=\"utf-8\") as f:\n",
    "    json.dump(results, f, indent=2)\n",
    "\n",
    "print(f\"Saved results to {output_file}\")"
   ]
  }
 ],
 "metadata": {
  "kernelspec": {
   "display_name": "Python 3",
   "language": "python",
   "name": "python3"
  },
  "language_info": {
   "name": "python",
   "version": "3.6.8"
  }
 },
 "nbformat": 4,
 "nbformat_minor": 5
}
