{
 "cells": [
  {
   "cell_type": "code",
   "execution_count": 10,
   "metadata": {},
   "outputs": [
    {
     "name": "stdout",
     "output_type": "stream",
     "text": [
      "/home/ubuntu\n"
     ]
    }
   ],
   "source": [
    "%cd ..\n",
    "\n",
    "\n",
    "import os\n",
    "import logging\n",
    "import json\n",
    "\n",
    "import main"
   ]
  },
  {
   "cell_type": "code",
   "execution_count": 2,
   "metadata": {},
   "outputs": [],
   "source": [
    "model_path = \"deepseek-ai/DeepSeek-R1-Distill-Qwen-1.5B\""
   ]
  },
  {
   "cell_type": "code",
   "execution_count": 12,
   "metadata": {},
   "outputs": [
    {
     "name": "stderr",
     "output_type": "stream",
     "text": [
      "2025-04-14 00:36:01,923 - INFO - CUDA is available. Using GPU.\n",
      "2025-04-14 00:36:01,924 - INFO - Loading model and tokenizer: deepseek-ai/DeepSeek-R1-Distill-Qwen-1.5B onto cuda\n",
      "2025-04-14 00:36:03,531 - INFO - Model and tokenizer loaded successfully.\n",
      "2025-04-14 00:36:03,570 - INFO - Using chat template: <|begin_of_text|><|start_header_id|>user<|end_header_id|>\n",
      "{instruction}<|eot_id|><|start_header_id|>assistant<|end_header_id|>\n",
      "2025-04-14 00:36:03,571 - INFO - --- Processing dataset for hint type: sycophancy ---\n",
      "2025-04-14 00:36:03,572 - ERROR - Data file not found: data/gsm_mc_stage_formatted.json\n",
      "2025-04-14 00:36:03,572 - ERROR - Data file not found: data/sycophancy/hints.json\n",
      "2025-04-14 00:36:03,573 - INFO - Generating completions for sycophancy...\n",
      "2025-04-14 00:36:03,573 - INFO - Using max_new_tokens: 2048\n",
      "2025-04-14 00:36:03,574 - INFO - Results saved to data/sycophancy/completions_DeepSeek-R1-Distill-Qwen-1.5B.json\n",
      "2025-04-14 00:36:03,575 - INFO - Total processing time: 0.00 seconds\n"
     ]
    }
   ],
   "source": [
    "model, tokenizer, model_name, device = main.load_model_and_tokenizer(model_path)\n",
    "\n",
    "main.generate_dataset_completions(\n",
    "    model = model,\n",
    "    tokenizer = tokenizer,\n",
    "    model_name = model_name,\n",
    "    device = device,\n",
    "    hint_types = [\"sycophancy\"],\n",
    "    batch_size = 4,\n",
    "    max_new_tokens = None\n",
    "    )\n"
   ]
  }
 ],
 "metadata": {
  "kernelspec": {
   "display_name": ".venv",
   "language": "python",
   "name": "python3"
  },
  "language_info": {
   "codemirror_mode": {
    "name": "ipython",
    "version": 3
   },
   "file_extension": ".py",
   "mimetype": "text/x-python",
   "name": "python",
   "nbconvert_exporter": "python",
   "pygments_lexer": "ipython3",
   "version": "3.10.12"
  }
 },
 "nbformat": 4,
 "nbformat_minor": 2
}
